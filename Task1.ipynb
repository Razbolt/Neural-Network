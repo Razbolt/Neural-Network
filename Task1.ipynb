{
 "cells": [
  {
   "cell_type": "markdown",
   "metadata": {},
   "source": [
    "# INM702 - Coursework TASK 1"
   ]
  },
  {
   "cell_type": "markdown",
   "metadata": {},
   "source": [
    "## 1.1 Import required libraries for task"
   ]
  },
  {
   "cell_type": "code",
   "execution_count": 6,
   "metadata": {},
   "outputs": [],
   "source": [
    "import numpy as np\n",
    "import pandas as pd\n",
    "import keras\n",
    "from matplotlib import pyplot as plt"
   ]
  },
  {
   "cell_type": "code",
   "execution_count": 7,
   "metadata": {},
   "outputs": [],
   "source": [
    "# Use keras to import MNIST dataset\n",
    "(X_train, y_train), (X_test, y_test) = keras.datasets.mnist.load_data()"
   ]
  },
  {
   "cell_type": "markdown",
   "metadata": {},
   "source": [
    "## 1.2 Data inspection and preparation"
   ]
  },
  {
   "cell_type": "markdown",
   "metadata": {},
   "source": [
    "Before procesing, we need to check the MNIST Data.\n",
    "First we plot one sample image to see what our input data look like"
   ]
  },
  {
   "cell_type": "code",
   "execution_count": 8,
   "metadata": {},
   "outputs": [
    {
     "data": {
      "image/png": "[encoded data removed]",
      "text/plain": [
       "<Figure size 640x480 with 1 Axes>"
      ]
     },
     "metadata": {},
     "output_type": "display_data"
    },
    {
     "name": "stdout",
     "output_type": "stream",
     "text": [
      "The number shown on image is: 3\n"
     ]
    }
   ],
   "source": [
    "# Plot a sample image\n",
    "sample = 7\n",
    "image = X_train[sample]\n",
    "# plot the sample\n",
    "fig = plt.figure\n",
    "plt.imshow(image, cmap='gray')\n",
    "plt.show()\n",
    "print(\"The number shown on image is:\", y_train[sample])"
   ]
  },
  {
   "cell_type": "markdown",
   "metadata": {},
   "source": [
    "Then we print the size of the arrays we have created just to make sure they are as expected"
   ]
  },
  {
   "cell_type": "code",
   "execution_count": 9,
   "metadata": {},
   "outputs": [
    {
     "name": "stdout",
     "output_type": "stream",
     "text": [
      "shape of X_train (60000, 28, 28)\n",
      "shape of X_test (10000, 28, 28)\n",
      "shape of y_train (60000,)\n",
      "shape of y_test (10000,)\n"
     ]
    }
   ],
   "source": [
    "print (\"shape of X_train {}\".format(X_train.shape))\n",
    "print (\"shape of X_test {}\".format(X_test.shape))\n",
    "print (\"shape of y_train {}\".format(y_train.shape))\n",
    "print (\"shape of y_test {}\".format(y_test.shape))"
   ]
  },
  {
   "cell_type": "markdown",
   "metadata": {},
   "source": [
    "Finally we print one data sample to see what it is like"
   ]
  },
  {
   "cell_type": "code",
   "execution_count": 10,
   "metadata": {},
   "outputs": [
    {
     "data": {
      "text/plain": [
       "array([[  0,   0,   0,   0,   0,   0,   0,   0,   0,   0,   0,   0,   0,\n",
       "          0,   0,   0,   0,   0,   0,   0,   0,   0,   0,   0,   0,   0,\n",
       "          0,   0],\n",
       "       [  0,   0,   0,   0,   0,   0,   0,   0,   0,   0,   0,   0,   0,\n",
       "          0,   0,   0,   0,   0,   0,   0,   0,   0,   0,   0,   0,   0,\n",
       "          0,   0],\n",
       "       [  0,   0,   0,   0,   0,   0,   0,   0,   0,   0,   0,   0,   0,\n",
       "          0,   0,   0,   0,   0,   0,   0,   0,   0,   0,   0,   0,   0,\n",
       "          0,   0],\n",
       "       [  0,   0,   0,   0,   0,   0,   0,   0,   0,   0,   0,   0,   0,\n",
       "          0,   0,   0,   0,   0,   0,   0,   0,   0,   0,   0,   0,   0,\n",
       "          0,   0],\n",
       "       [  0,   0,   0,   0,   0,   0,   0,   0,   0,   0,   0,   0,   0,\n",
       "          0,   0,   0,   0,   0,   0,   0,   0,   0,   0,   0,   0,   0,\n",
       "          0,   0],\n",
       "       [  0,   0,   0,   0,   0,   0,   0,   0,   0,   0,   0,  38,  43,\n",
       "        105, 255, 253, 253, 253, 253, 253, 174,   6,   0,   0,   0,   0,\n",
       "          0,   0],\n",
       "       [  0,   0,   0,   0,   0,   0,   0,   0,   0,  43, 139, 224, 226,\n",
       "        252, 253, 252, 252, 252, 252, 252, 252, 158,  14,   0,   0,   0,\n",
       "          0,   0],\n",
       "       [  0,   0,   0,   0,   0,   0,   0,   0,   0, 178, 252, 252, 252,\n",
       "        252, 253, 252, 252, 252, 252, 252, 252, 252,  59,   0,   0,   0,\n",
       "          0,   0],\n",
       "       [  0,   0,   0,   0,   0,   0,   0,   0,   0, 109, 252, 252, 230,\n",
       "        132, 133, 132, 132, 189, 252, 252, 252, 252,  59,   0,   0,   0,\n",
       "          0,   0],\n",
       "       [  0,   0,   0,   0,   0,   0,   0,   0,   0,   4,  29,  29,  24,\n",
       "          0,   0,   0,   0,  14, 226, 252, 252, 172,   7,   0,   0,   0,\n",
       "          0,   0],\n",
       "       [  0,   0,   0,   0,   0,   0,   0,   0,   0,   0,   0,   0,   0,\n",
       "          0,   0,   0,   0,  85, 243, 252, 252, 144,   0,   0,   0,   0,\n",
       "          0,   0],\n",
       "       [  0,   0,   0,   0,   0,   0,   0,   0,   0,   0,   0,   0,   0,\n",
       "          0,   0,   0,  88, 189, 252, 252, 252,  14,   0,   0,   0,   0,\n",
       "          0,   0],\n",
       "       [  0,   0,   0,   0,   0,   0,   0,   0,   0,   0,   0,   0,   0,\n",
       "          0,  91, 212, 247, 252, 252, 252, 204,   9,   0,   0,   0,   0,\n",
       "          0,   0],\n",
       "       [  0,   0,   0,   0,   0,   0,   0,   0,   0,  32, 125, 193, 193,\n",
       "        193, 253, 252, 252, 252, 238, 102,  28,   0,   0,   0,   0,   0,\n",
       "          0,   0],\n",
       "       [  0,   0,   0,   0,   0,   0,   0,   0,  45, 222, 252, 252, 252,\n",
       "        252, 253, 252, 252, 252, 177,   0,   0,   0,   0,   0,   0,   0,\n",
       "          0,   0],\n",
       "       [  0,   0,   0,   0,   0,   0,   0,   0,  45, 223, 253, 253, 253,\n",
       "        253, 255, 253, 253, 253, 253,  74,   0,   0,   0,   0,   0,   0,\n",
       "          0,   0],\n",
       "       [  0,   0,   0,   0,   0,   0,   0,   0,   0,  31, 123,  52,  44,\n",
       "         44,  44,  44, 143, 252, 252,  74,   0,   0,   0,   0,   0,   0,\n",
       "          0,   0],\n",
       "       [  0,   0,   0,   0,   0,   0,   0,   0,   0,   0,   0,   0,   0,\n",
       "          0,   0,   0,  15, 252, 252,  74,   0,   0,   0,   0,   0,   0,\n",
       "          0,   0],\n",
       "       [  0,   0,   0,   0,   0,   0,   0,   0,   0,   0,   0,   0,   0,\n",
       "          0,   0,   0,  86, 252, 252,  74,   0,   0,   0,   0,   0,   0,\n",
       "          0,   0],\n",
       "       [  0,   0,   0,   0,   0,   0,   5,  75,   9,   0,   0,   0,   0,\n",
       "          0,   0,  98, 242, 252, 252,  74,   0,   0,   0,   0,   0,   0,\n",
       "          0,   0],\n",
       "       [  0,   0,   0,   0,   0,  61, 183, 252,  29,   0,   0,   0,   0,\n",
       "         18,  92, 239, 252, 252, 243,  65,   0,   0,   0,   0,   0,   0,\n",
       "          0,   0],\n",
       "       [  0,   0,   0,   0,   0, 208, 252, 252, 147, 134, 134, 134, 134,\n",
       "        203, 253, 252, 252, 188,  83,   0,   0,   0,   0,   0,   0,   0,\n",
       "          0,   0],\n",
       "       [  0,   0,   0,   0,   0, 208, 252, 252, 252, 252, 252, 252, 252,\n",
       "        252, 253, 230, 153,   8,   0,   0,   0,   0,   0,   0,   0,   0,\n",
       "          0,   0],\n",
       "       [  0,   0,   0,   0,   0,  49, 157, 252, 252, 252, 252, 252, 217,\n",
       "        207, 146,  45,   0,   0,   0,   0,   0,   0,   0,   0,   0,   0,\n",
       "          0,   0],\n",
       "       [  0,   0,   0,   0,   0,   0,   7, 103, 235, 252, 172, 103,  24,\n",
       "          0,   0,   0,   0,   0,   0,   0,   0,   0,   0,   0,   0,   0,\n",
       "          0,   0],\n",
       "       [  0,   0,   0,   0,   0,   0,   0,   0,   0,   0,   0,   0,   0,\n",
       "          0,   0,   0,   0,   0,   0,   0,   0,   0,   0,   0,   0,   0,\n",
       "          0,   0],\n",
       "       [  0,   0,   0,   0,   0,   0,   0,   0,   0,   0,   0,   0,   0,\n",
       "          0,   0,   0,   0,   0,   0,   0,   0,   0,   0,   0,   0,   0,\n",
       "          0,   0],\n",
       "       [  0,   0,   0,   0,   0,   0,   0,   0,   0,   0,   0,   0,   0,\n",
       "          0,   0,   0,   0,   0,   0,   0,   0,   0,   0,   0,   0,   0,\n",
       "          0,   0]], dtype=uint8)"
      ]
     },
     "execution_count": 10,
     "metadata": {},
     "output_type": "execute_result"
    }
   ],
   "source": [
    "X_train[7]"
   ]
  },
  {
   "cell_type": "markdown",
   "metadata": {},
   "source": [
    "We can see that our input is a 28x28 array of integers with values in the range 0 to 255. These correspond to the input image size which is 28x28 pixels and the values represent the colour intensity of each pixel in the image in the greyscale range. 0 is black, 255 is white and the values in between are shades of grey. This can also be confirmed by the image that we have plotted above.   "
   ]
  },
  {
   "cell_type": "markdown",
   "metadata": {},
   "source": [
    "In order to feed the data into our NN we need to \"flatten\" the 28x28 array into one dimension array containing all 784 elements and preserving the total number of input samples. We print the resulting size."
   ]
  },
  {
   "cell_type": "code",
   "execution_count": 11,
   "metadata": {},
   "outputs": [
    {
     "name": "stdout",
     "output_type": "stream",
     "text": [
      "new shape of X_train (60000, 784)\n",
      "new shape of X_test (10000, 784)\n"
     ]
    },
    {
     "data": {
      "text/plain": [
       "array([  0,   0,   0,   0,   0,   0,   0,   0,   0,   0,   0,   0,   0,\n",
       "         0,   0,   0,   0,   0,   0,   0,   0,   0,   0,   0,   0,   0,\n",
       "         0,   0,   0,   0,   0,   0,   0,   0,   0,   0,   0,   0,   0,\n",
       "         0,   0,   0,   0,   0,   0,   0,   0,   0,   0,   0,   0,   0,\n",
       "         0,   0,   0,   0,   0,   0,   0,   0,   0,   0,   0,   0,   0,\n",
       "         0,   0,   0,   0,   0,   0,   0,   0,   0,   0,   0,   0,   0,\n",
       "         0,   0,   0,   0,   0,   0,   0,   0,   0,   0,   0,   0,   0,\n",
       "         0,   0,   0,   0,   0,   0,   0,   0,   0,   0,   0,   0,   0,\n",
       "         0,   0,   0,   0,   0,   0,   0,   0,   0,   0,   0,   0,   0,\n",
       "         0,   0,   0,   0,   0,   0,   0,   0,   0,   0,   0,   0,   0,\n",
       "         0,   0,   0,   0,   0,   0,   0,   0,   0,   0,   0,   0,   0,\n",
       "         0,   0,   0,   0,   0,   0,   0,   0,  38,  43, 105, 255, 253,\n",
       "       253, 253, 253, 253, 174,   6,   0,   0,   0,   0,   0,   0,   0,\n",
       "         0,   0,   0,   0,   0,   0,   0,   0,  43, 139, 224, 226, 252,\n",
       "       253, 252, 252, 252, 252, 252, 252, 158,  14,   0,   0,   0,   0,\n",
       "         0,   0,   0,   0,   0,   0,   0,   0,   0,   0, 178, 252, 252,\n",
       "       252, 252, 253, 252, 252, 252, 252, 252, 252, 252,  59,   0,   0,\n",
       "         0,   0,   0,   0,   0,   0,   0,   0,   0,   0,   0,   0, 109,\n",
       "       252, 252, 230, 132, 133, 132, 132, 189, 252, 252, 252, 252,  59,\n",
       "         0,   0,   0,   0,   0,   0,   0,   0,   0,   0,   0,   0,   0,\n",
       "         0,   4,  29,  29,  24,   0,   0,   0,   0,  14, 226, 252, 252,\n",
       "       172,   7,   0,   0,   0,   0,   0,   0,   0,   0,   0,   0,   0,\n",
       "         0,   0,   0,   0,   0,   0,   0,   0,   0,   0,   0,  85, 243,\n",
       "       252, 252, 144,   0,   0,   0,   0,   0,   0,   0,   0,   0,   0,\n",
       "         0,   0,   0,   0,   0,   0,   0,   0,   0,   0,   0,   0,  88,\n",
       "       189, 252, 252, 252,  14,   0,   0,   0,   0,   0,   0,   0,   0,\n",
       "         0,   0,   0,   0,   0,   0,   0,   0,   0,   0,   0,   0,  91,\n",
       "       212, 247, 252, 252, 252, 204,   9,   0,   0,   0,   0,   0,   0,\n",
       "         0,   0,   0,   0,   0,   0,   0,   0,   0,  32, 125, 193, 193,\n",
       "       193, 253, 252, 252, 252, 238, 102,  28,   0,   0,   0,   0,   0,\n",
       "         0,   0,   0,   0,   0,   0,   0,   0,   0,   0,  45, 222, 252,\n",
       "       252, 252, 252, 253, 252, 252, 252, 177,   0,   0,   0,   0,   0,\n",
       "         0,   0,   0,   0,   0,   0,   0,   0,   0,   0,   0,   0,  45,\n",
       "       223, 253, 253, 253, 253, 255, 253, 253, 253, 253,  74,   0,   0,\n",
       "         0,   0,   0,   0,   0,   0,   0,   0,   0,   0,   0,   0,   0,\n",
       "         0,   0,  31, 123,  52,  44,  44,  44,  44, 143, 252, 252,  74,\n",
       "         0,   0,   0,   0,   0,   0,   0,   0,   0,   0,   0,   0,   0,\n",
       "         0,   0,   0,   0,   0,   0,   0,   0,   0,   0,   0,  15, 252,\n",
       "       252,  74,   0,   0,   0,   0,   0,   0,   0,   0,   0,   0,   0,\n",
       "         0,   0,   0,   0,   0,   0,   0,   0,   0,   0,   0,   0,   0,\n",
       "        86, 252, 252,  74,   0,   0,   0,   0,   0,   0,   0,   0,   0,\n",
       "         0,   0,   0,   0,   0,   5,  75,   9,   0,   0,   0,   0,   0,\n",
       "         0,  98, 242, 252, 252,  74,   0,   0,   0,   0,   0,   0,   0,\n",
       "         0,   0,   0,   0,   0,   0,  61, 183, 252,  29,   0,   0,   0,\n",
       "         0,  18,  92, 239, 252, 252, 243,  65,   0,   0,   0,   0,   0,\n",
       "         0,   0,   0,   0,   0,   0,   0,   0, 208, 252, 252, 147, 134,\n",
       "       134, 134, 134, 203, 253, 252, 252, 188,  83,   0,   0,   0,   0,\n",
       "         0,   0,   0,   0,   0,   0,   0,   0,   0,   0, 208, 252, 252,\n",
       "       252, 252, 252, 252, 252, 252, 253, 230, 153,   8,   0,   0,   0,\n",
       "         0,   0,   0,   0,   0,   0,   0,   0,   0,   0,   0,   0,  49,\n",
       "       157, 252, 252, 252, 252, 252, 217, 207, 146,  45,   0,   0,   0,\n",
       "         0,   0,   0,   0,   0,   0,   0,   0,   0,   0,   0,   0,   0,\n",
       "         0,   0,   7, 103, 235, 252, 172, 103,  24,   0,   0,   0,   0,\n",
       "         0,   0,   0,   0,   0,   0,   0,   0,   0,   0,   0,   0,   0,\n",
       "         0,   0,   0,   0,   0,   0,   0,   0,   0,   0,   0,   0,   0,\n",
       "         0,   0,   0,   0,   0,   0,   0,   0,   0,   0,   0,   0,   0,\n",
       "         0,   0,   0,   0,   0,   0,   0,   0,   0,   0,   0,   0,   0,\n",
       "         0,   0,   0,   0,   0,   0,   0,   0,   0,   0,   0,   0,   0,\n",
       "         0,   0,   0,   0,   0,   0,   0,   0,   0,   0,   0,   0,   0,\n",
       "         0,   0,   0,   0,   0,   0,   0,   0,   0,   0,   0,   0,   0,\n",
       "         0,   0,   0,   0], dtype=uint8)"
      ]
     },
     "execution_count": 11,
     "metadata": {},
     "output_type": "execute_result"
    }
   ],
   "source": [
    "X_train = X_train.reshape((X_train.shape[0], -1))\n",
    "X_test = X_test.reshape((X_test.shape[0], -1))\n",
    "\n",
    "print (\"new shape of X_train {}\".format(X_train.shape))\n",
    "print (\"new shape of X_test {}\".format(X_test.shape))\n",
    "X_train[7]"
   ]
  },
  {
   "cell_type": "markdown",
   "metadata": {},
   "source": [
    "Since all our features are integer values that range from 0 to 255 it is not absolutely necessary to standardize our input data. However we will perform a simple scaling of the data by dividing all values by the max value 255"
   ]
  },
  {
   "cell_type": "code",
   "execution_count": 12,
   "metadata": {},
   "outputs": [
    {
     "data": {
      "text/plain": [
       "array([0.        , 0.        , 0.        , 0.        , 0.        ,\n",
       "       0.        , 0.        , 0.        , 0.        , 0.        ,\n",
       "       0.        , 0.        , 0.        , 0.        , 0.        ,\n",
       "       0.        , 0.        , 0.        , 0.        , 0.        ,\n",
       "       0.        , 0.        , 0.        , 0.        , 0.        ,\n",
       "       0.        , 0.        , 0.        , 0.        , 0.        ,\n",
       "       0.        , 0.        , 0.        , 0.        , 0.        ,\n",
       "       0.        , 0.        , 0.        , 0.        , 0.        ,\n",
       "       0.        , 0.        , 0.        , 0.        , 0.        ,\n",
       "       0.        , 0.        , 0.        , 0.        , 0.        ,\n",
       "       0.        , 0.        , 0.        , 0.        , 0.        ,\n",
       "       0.        , 0.        , 0.        , 0.        , 0.        ,\n",
       "       0.        , 0.        , 0.        , 0.        , 0.        ,\n",
       "       0.        , 0.        , 0.        , 0.        , 0.        ,\n",
       "       0.        , 0.        , 0.        , 0.        , 0.        ,\n",
       "       0.        , 0.        , 0.        , 0.        , 0.        ,\n",
       "       0.        , 0.        , 0.        , 0.        , 0.        ,\n",
       "       0.        , 0.        , 0.        , 0.        , 0.        ,\n",
       "       0.        , 0.        , 0.        , 0.        , 0.        ,\n",
       "       0.        , 0.        , 0.        , 0.        , 0.        ,\n",
       "       0.        , 0.        , 0.        , 0.        , 0.        ,\n",
       "       0.        , 0.        , 0.        , 0.        , 0.        ,\n",
       "       0.        , 0.        , 0.        , 0.        , 0.        ,\n",
       "       0.        , 0.        , 0.        , 0.        , 0.        ,\n",
       "       0.        , 0.        , 0.        , 0.        , 0.        ,\n",
       "       0.        , 0.        , 0.        , 0.        , 0.        ,\n",
       "       0.        , 0.        , 0.        , 0.        , 0.        ,\n",
       "       0.        , 0.        , 0.        , 0.        , 0.        ,\n",
       "       0.        , 0.        , 0.        , 0.        , 0.        ,\n",
       "       0.        , 0.        , 0.        , 0.        , 0.        ,\n",
       "       0.        , 0.14901961, 0.16862745, 0.41176471, 1.        ,\n",
       "       0.99215686, 0.99215686, 0.99215686, 0.99215686, 0.99215686,\n",
       "       0.68235294, 0.02352941, 0.        , 0.        , 0.        ,\n",
       "       0.        , 0.        , 0.        , 0.        , 0.        ,\n",
       "       0.        , 0.        , 0.        , 0.        , 0.        ,\n",
       "       0.        , 0.        , 0.16862745, 0.54509804, 0.87843137,\n",
       "       0.88627451, 0.98823529, 0.99215686, 0.98823529, 0.98823529,\n",
       "       0.98823529, 0.98823529, 0.98823529, 0.98823529, 0.61960784,\n",
       "       0.05490196, 0.        , 0.        , 0.        , 0.        ,\n",
       "       0.        , 0.        , 0.        , 0.        , 0.        ,\n",
       "       0.        , 0.        , 0.        , 0.        , 0.        ,\n",
       "       0.69803922, 0.98823529, 0.98823529, 0.98823529, 0.98823529,\n",
       "       0.99215686, 0.98823529, 0.98823529, 0.98823529, 0.98823529,\n",
       "       0.98823529, 0.98823529, 0.98823529, 0.23137255, 0.        ,\n",
       "       0.        , 0.        , 0.        , 0.        , 0.        ,\n",
       "       0.        , 0.        , 0.        , 0.        , 0.        ,\n",
       "       0.        , 0.        , 0.        , 0.42745098, 0.98823529,\n",
       "       0.98823529, 0.90196078, 0.51764706, 0.52156863, 0.51764706,\n",
       "       0.51764706, 0.74117647, 0.98823529, 0.98823529, 0.98823529,\n",
       "       0.98823529, 0.23137255, 0.        , 0.        , 0.        ,\n",
       "       0.        , 0.        , 0.        , 0.        , 0.        ,\n",
       "       0.        , 0.        , 0.        , 0.        , 0.        ,\n",
       "       0.        , 0.01568627, 0.11372549, 0.11372549, 0.09411765,\n",
       "       0.        , 0.        , 0.        , 0.        , 0.05490196,\n",
       "       0.88627451, 0.98823529, 0.98823529, 0.6745098 , 0.02745098,\n",
       "       0.        , 0.        , 0.        , 0.        , 0.        ,\n",
       "       0.        , 0.        , 0.        , 0.        , 0.        ,\n",
       "       0.        , 0.        , 0.        , 0.        , 0.        ,\n",
       "       0.        , 0.        , 0.        , 0.        , 0.        ,\n",
       "       0.        , 0.        , 0.33333333, 0.95294118, 0.98823529,\n",
       "       0.98823529, 0.56470588, 0.        , 0.        , 0.        ,\n",
       "       0.        , 0.        , 0.        , 0.        , 0.        ,\n",
       "       0.        , 0.        , 0.        , 0.        , 0.        ,\n",
       "       0.        , 0.        , 0.        , 0.        , 0.        ,\n",
       "       0.        , 0.        , 0.        , 0.        , 0.34509804,\n",
       "       0.74117647, 0.98823529, 0.98823529, 0.98823529, 0.05490196,\n",
       "       0.        , 0.        , 0.        , 0.        , 0.        ,\n",
       "       0.        , 0.        , 0.        , 0.        , 0.        ,\n",
       "       0.        , 0.        , 0.        , 0.        , 0.        ,\n",
       "       0.        , 0.        , 0.        , 0.        , 0.        ,\n",
       "       0.35686275, 0.83137255, 0.96862745, 0.98823529, 0.98823529,\n",
       "       0.98823529, 0.8       , 0.03529412, 0.        , 0.        ,\n",
       "       0.        , 0.        , 0.        , 0.        , 0.        ,\n",
       "       0.        , 0.        , 0.        , 0.        , 0.        ,\n",
       "       0.        , 0.        , 0.        , 0.1254902 , 0.49019608,\n",
       "       0.75686275, 0.75686275, 0.75686275, 0.99215686, 0.98823529,\n",
       "       0.98823529, 0.98823529, 0.93333333, 0.4       , 0.10980392,\n",
       "       0.        , 0.        , 0.        , 0.        , 0.        ,\n",
       "       0.        , 0.        , 0.        , 0.        , 0.        ,\n",
       "       0.        , 0.        , 0.        , 0.        , 0.        ,\n",
       "       0.17647059, 0.87058824, 0.98823529, 0.98823529, 0.98823529,\n",
       "       0.98823529, 0.99215686, 0.98823529, 0.98823529, 0.98823529,\n",
       "       0.69411765, 0.        , 0.        , 0.        , 0.        ,\n",
       "       0.        , 0.        , 0.        , 0.        , 0.        ,\n",
       "       0.        , 0.        , 0.        , 0.        , 0.        ,\n",
       "       0.        , 0.        , 0.        , 0.17647059, 0.8745098 ,\n",
       "       0.99215686, 0.99215686, 0.99215686, 0.99215686, 1.        ,\n",
       "       0.99215686, 0.99215686, 0.99215686, 0.99215686, 0.29019608,\n",
       "       0.        , 0.        , 0.        , 0.        , 0.        ,\n",
       "       0.        , 0.        , 0.        , 0.        , 0.        ,\n",
       "       0.        , 0.        , 0.        , 0.        , 0.        ,\n",
       "       0.        , 0.        , 0.12156863, 0.48235294, 0.20392157,\n",
       "       0.17254902, 0.17254902, 0.17254902, 0.17254902, 0.56078431,\n",
       "       0.98823529, 0.98823529, 0.29019608, 0.        , 0.        ,\n",
       "       0.        , 0.        , 0.        , 0.        , 0.        ,\n",
       "       0.        , 0.        , 0.        , 0.        , 0.        ,\n",
       "       0.        , 0.        , 0.        , 0.        , 0.        ,\n",
       "       0.        , 0.        , 0.        , 0.        , 0.        ,\n",
       "       0.        , 0.        , 0.05882353, 0.98823529, 0.98823529,\n",
       "       0.29019608, 0.        , 0.        , 0.        , 0.        ,\n",
       "       0.        , 0.        , 0.        , 0.        , 0.        ,\n",
       "       0.        , 0.        , 0.        , 0.        , 0.        ,\n",
       "       0.        , 0.        , 0.        , 0.        , 0.        ,\n",
       "       0.        , 0.        , 0.        , 0.        , 0.        ,\n",
       "       0.3372549 , 0.98823529, 0.98823529, 0.29019608, 0.        ,\n",
       "       0.        , 0.        , 0.        , 0.        , 0.        ,\n",
       "       0.        , 0.        , 0.        , 0.        , 0.        ,\n",
       "       0.        , 0.        , 0.        , 0.01960784, 0.29411765,\n",
       "       0.03529412, 0.        , 0.        , 0.        , 0.        ,\n",
       "       0.        , 0.        , 0.38431373, 0.94901961, 0.98823529,\n",
       "       0.98823529, 0.29019608, 0.        , 0.        , 0.        ,\n",
       "       0.        , 0.        , 0.        , 0.        , 0.        ,\n",
       "       0.        , 0.        , 0.        , 0.        , 0.        ,\n",
       "       0.23921569, 0.71764706, 0.98823529, 0.11372549, 0.        ,\n",
       "       0.        , 0.        , 0.        , 0.07058824, 0.36078431,\n",
       "       0.9372549 , 0.98823529, 0.98823529, 0.95294118, 0.25490196,\n",
       "       0.        , 0.        , 0.        , 0.        , 0.        ,\n",
       "       0.        , 0.        , 0.        , 0.        , 0.        ,\n",
       "       0.        , 0.        , 0.        , 0.81568627, 0.98823529,\n",
       "       0.98823529, 0.57647059, 0.5254902 , 0.5254902 , 0.5254902 ,\n",
       "       0.5254902 , 0.79607843, 0.99215686, 0.98823529, 0.98823529,\n",
       "       0.7372549 , 0.3254902 , 0.        , 0.        , 0.        ,\n",
       "       0.        , 0.        , 0.        , 0.        , 0.        ,\n",
       "       0.        , 0.        , 0.        , 0.        , 0.        ,\n",
       "       0.        , 0.81568627, 0.98823529, 0.98823529, 0.98823529,\n",
       "       0.98823529, 0.98823529, 0.98823529, 0.98823529, 0.98823529,\n",
       "       0.99215686, 0.90196078, 0.6       , 0.03137255, 0.        ,\n",
       "       0.        , 0.        , 0.        , 0.        , 0.        ,\n",
       "       0.        , 0.        , 0.        , 0.        , 0.        ,\n",
       "       0.        , 0.        , 0.        , 0.        , 0.19215686,\n",
       "       0.61568627, 0.98823529, 0.98823529, 0.98823529, 0.98823529,\n",
       "       0.98823529, 0.85098039, 0.81176471, 0.57254902, 0.17647059,\n",
       "       0.        , 0.        , 0.        , 0.        , 0.        ,\n",
       "       0.        , 0.        , 0.        , 0.        , 0.        ,\n",
       "       0.        , 0.        , 0.        , 0.        , 0.        ,\n",
       "       0.        , 0.        , 0.        , 0.02745098, 0.40392157,\n",
       "       0.92156863, 0.98823529, 0.6745098 , 0.40392157, 0.09411765,\n",
       "       0.        , 0.        , 0.        , 0.        , 0.        ,\n",
       "       0.        , 0.        , 0.        , 0.        , 0.        ,\n",
       "       0.        , 0.        , 0.        , 0.        , 0.        ,\n",
       "       0.        , 0.        , 0.        , 0.        , 0.        ,\n",
       "       0.        , 0.        , 0.        , 0.        , 0.        ,\n",
       "       0.        , 0.        , 0.        , 0.        , 0.        ,\n",
       "       0.        , 0.        , 0.        , 0.        , 0.        ,\n",
       "       0.        , 0.        , 0.        , 0.        , 0.        ,\n",
       "       0.        , 0.        , 0.        , 0.        , 0.        ,\n",
       "       0.        , 0.        , 0.        , 0.        , 0.        ,\n",
       "       0.        , 0.        , 0.        , 0.        , 0.        ,\n",
       "       0.        , 0.        , 0.        , 0.        , 0.        ,\n",
       "       0.        , 0.        , 0.        , 0.        , 0.        ,\n",
       "       0.        , 0.        , 0.        , 0.        , 0.        ,\n",
       "       0.        , 0.        , 0.        , 0.        , 0.        ,\n",
       "       0.        , 0.        , 0.        , 0.        , 0.        ,\n",
       "       0.        , 0.        , 0.        , 0.        , 0.        ,\n",
       "       0.        , 0.        , 0.        , 0.        , 0.        ,\n",
       "       0.        , 0.        , 0.        , 0.        , 0.        ,\n",
       "       0.        , 0.        , 0.        , 0.        ])"
      ]
     },
     "execution_count": 12,
     "metadata": {},
     "output_type": "execute_result"
    }
   ],
   "source": [
    "X_train = X_train/255\n",
    "X_test = X_test/255\n",
    "X_train[7]"
   ]
  },
  {
   "cell_type": "markdown",
   "metadata": {},
   "source": [
    "## 2.1 Neural Network Implementation"
   ]
  },
  {
   "cell_type": "code",
   "execution_count": 13,
   "metadata": {},
   "outputs": [],
   "source": [
    "import numpy as np\n",
    "\n",
    "class MyNeuralNetwork:\n",
    "    def __init__(self,input_size,hidden_sizes,output_size,activation_function,dropout):\n",
    "        self.layer_sizes = [input_size] + hidden_sizes + [output_size] # Number of neurons in each layer\n",
    "        self.activation_function = activation_function                 # Activation function to use\n",
    "        self.dropout = dropout                                         # Dropout probability\n",
    "        self.weights = []                                              # Weights for each layer\n",
    "        self.biases = []                                               # Biases for each layer\n",
    "        self.input_size = input_size                                   # Input size\n",
    "        self.output_size = output_size                                 # Output size              \n",
    "        self.hidden_sizes = hidden_sizes                               # Hidden layer sizes\n",
    "\n",
    "        for i in range(len(self.layer_sizes) - 1):\n",
    "            self.weights.append(np.random.uniform(-0.5, 0.5, (self.layer_sizes[i+1], self.layer_sizes[i])))\n",
    "            self.biases.append(np.zeros((self.layer_sizes[i+1], 1)))\n",
    "\n",
    "            #Debug: Print shapes\n",
    "            print(f\"Weights in layer : {i}, Weights shape: {self.weights[i].shape}, Biases shape: {self.biases[i].shape}\")\n",
    "    \n",
    "    #Staticmethod is used to call the function without creating an object\n",
    "    #In this way we can call them in the activation function and deactivation function\n",
    "    @staticmethod  \n",
    "    def ReLU(Z):\n",
    "        return np.maximum(0,Z)\n",
    "    \n",
    "    @staticmethod\n",
    "    def derivative_ReLU(Z):\n",
    "        return Z > 0\n",
    "    \n",
    "    @staticmethod\n",
    "    def sigmoid(Z):\n",
    "        # Cap the values of Z within the range [-700, 700], to prevent overflow\n",
    "        Z = np.clip(Z, -700, 700)\n",
    "        return 1 / (1 + np.exp(-Z))\n",
    "    \n",
    "    @staticmethod\n",
    "    def derivative_sigmoid(Z):\n",
    "        return MyNeuralNetwork.sigmoid(Z) * (1 - MyNeuralNetwork.sigmoid(Z))\n",
    "    \n",
    "    @staticmethod\n",
    "    def softmax(Z):\n",
    "        Z_exp = np.exp(Z - np.max(Z, axis=0))\n",
    "        sum_Z_exp = np.sum(Z_exp, axis=0)\n",
    "        softmax_output = Z_exp / sum_Z_exp\n",
    "        return softmax_output\n",
    "        \n",
    "    def one_hot(self,Y):\n",
    "        num_classes = self.output_size\n",
    "        one_hot = np.zeros((Y.size,num_classes))\n",
    "        one_hot[np.arange(Y.size), Y] = 1\n",
    "        return one_hot.T\n",
    "        \n",
    "    def activation(self,Z):\n",
    "        if self.activation_function == 'relu':\n",
    "            return self.ReLU(Z)\n",
    "        elif self.activation_function == 'sigmoid':\n",
    "            return self.sigmoid(Z)\n",
    "        elif self.activation_function == 'softmax':\n",
    "            return self.softmax(Z)\n",
    "        else:\n",
    "            raise Exception('Activation function not supported')\n",
    "        \n",
    "    def derivative_activation(self,A):\n",
    "        if self.activation_function == 'relu':\n",
    "            return self.derivative_ReLU(A)\n",
    "        elif self.activation_function == 'sigmoid':\n",
    "            return self.derivative_sigmoid(A)\n",
    "        else:\n",
    "            raise Exception('Activation function not supported')\n",
    "        \n",
    "    def calculate_loss(self,A3,Y):\n",
    "        # Calculate the loss using the cross-entropy loss function\n",
    "        #Calcuation should be based on y_pred and y_true\n",
    "\n",
    "        y_pred = A3\n",
    "        y_true = self.one_hot(Y)\n",
    "\n",
    "        #Clip the y_prediction between epsilon and 1 - epsilon to prevent log(0) error\n",
    "        y_pred = np.clip(y_pred, 1e-15, 1 - 1e-15)\n",
    "\n",
    "        #Calculate the loss as multi-class cross-entropy loss\n",
    "        loss = - y_true * np.log(y_pred) - (1 - y_true) * np.log(1 - y_pred)\n",
    "        loss = np.sum(loss) / Y.size\n",
    "\n",
    "        return loss\n",
    "        \n",
    "    def forward_prop(self,X):\n",
    "        # Forward propagation\n",
    "        A = X.T\n",
    "        layer_outputs = {}\n",
    "        D = {} # Dropout mask matrices\n",
    "\n",
    "        #Loop over each layer in the network\n",
    "        for layer in range(len(self.layer_sizes)-1):\n",
    "            # Compute the linear output Z for the current layer\n",
    "            Z = self.weights[layer].dot(A) + self.biases[layer]\n",
    "\n",
    "            #Check for the if not the last layer, and apply the activation function\n",
    "            if (layer != len(self.layer_sizes) - 2 ):\n",
    "                A = self.activation(Z)\n",
    "                #Check for dropout and apply it accordingly \n",
    "                if self.dropout > 0: #apply dropout\n",
    "\n",
    "                    '''\n",
    "\n",
    "                    This line of code for dropout inspired from Andrew Ng's Deep Learning Specialization Course\n",
    "                    https://www.youtube.com/watch?v=D8PJAL-MZv8\n",
    "                    '''       \n",
    "\n",
    "                    #Create a dropout mask matrix to be applied to a subset of neurons\n",
    "                    D[layer] = np.random.rand(*A.shape) > self.dropout\n",
    "                    #Apply the mask to A\n",
    "                    A = A * D[layer]\n",
    "                    #Normalize A to not to change expected value of A as keeping  probability\n",
    "                    A = A / (1 - self.dropout)\n",
    "                    \n",
    "            #if there is no dropout\n",
    "            else: #for the last layer use softmax activation function\n",
    "                A = self.softmax(Z)\n",
    "            layer_outputs[layer] = (A,Z)\n",
    "            #Debuging: Print shapes\n",
    "            #print(f\"Forward Propagation, Layer: {layer}, A shape: {A.shape}, Z shape: {Z.shape}\")\n",
    "        \n",
    "        return layer_outputs,D\n",
    "    \n",
    "    def backward_prop(self, X, Y, layer_outputs, D):\n",
    "\n",
    "        m = X.shape[0]  # Number of training examples\n",
    "        Y = self.one_hot(Y)  # One hot encode the labels\n",
    "        gradients = {}  # Dictionary to store the gradients for each layer\n",
    "        dZ = None \n",
    "        for layer in reversed(range(len(self.layer_sizes) - 1)): # Layers are backwardley calculate the gradients\n",
    "            A, Z = layer_outputs[layer]                          # Get the layer's activations and linear outputs\n",
    "\n",
    "            if layer == len(self.layer_sizes) - 2:  # Gradient for the last layer\n",
    "                dZ = A - Y\n",
    "                \n",
    "            else:                                  # Gradient for the hidden layers\n",
    "                dA = np.dot(self.weights[layer + 1].T, dZ)\n",
    "                if self.dropout > 0:               # Apply dropout   \n",
    "                    dA *= D[layer]\n",
    "                dZ = dA * self.derivative_activation(Z)\n",
    "\n",
    "            prev_A = layer_outputs[layer - 1][0] if layer != 0 else X.T     #If layer is not last one takes the previous layer's activation\n",
    "                                                                            #If layers is last one takes the input X\n",
    "            # Debugging: Print shapes\n",
    "            #print(f\" Backward_prop ,Layer: {layer}, prev_A shape: {prev_A.shape}, dZ.T shape: {dZ.T.shape}\")\n",
    "\n",
    "            #Calculate the gradients for each layer  and store them in gradients dictionary\n",
    "            dW = np.dot(dZ, prev_A.T) / m\n",
    "            db = np.sum(dZ, axis=1, keepdims=True) / m\n",
    "\n",
    "            gradients[layer] = (dW, db)\n",
    "\n",
    "        return gradients\n",
    "          \n",
    "    def update_gradient(self,gradients,learning_rate):\n",
    "        # Update the weights and biases using gradient descent\n",
    "        for layer in range(len(self.layer_sizes) - 1):  # Corrected here\n",
    "            dW,db = gradients[layer]\n",
    "\n",
    "            self.weights[layer] -= learning_rate * dW\n",
    "            self.biases[layer] -= learning_rate * db\n",
    "  \n",
    "    def train(self,X,Y,learning_rate,epochs,batch_size,decay_rate,decay_step): \n",
    "        \"\"\"\n",
    "        Trains the neural network using the given training data.\n",
    "\n",
    "        Parameters:\n",
    "        self : MyNeuralNetwork\n",
    "            The neural network object to train.\n",
    "            \n",
    "\n",
    "        X = numpy.ndarray\n",
    "            The input data, wehere each row is a training example and each column is a feature.\n",
    "\n",
    "        Y = numpy.ndarray\n",
    "            The labels for each training example, where each row is a label. Must have the same number of rows as X.\n",
    "\n",
    "        learning_rate : float\n",
    "            The learning rate to use for weight updates in gradient descent.\n",
    "        epochs : int\n",
    "            The number of times to iterate over the entire training set.\n",
    "\n",
    "        batch_size : int\n",
    "            The number of training examples to split the training set into for mini-batch gradient descent.\n",
    "        \n",
    "        Returns:\n",
    "        None\n",
    "        \"\"\"\n",
    "        m = X.shape[0]\n",
    "        losses = [] # Array to store the loss at each epoch\n",
    "        accuracies = [] # Array to store the accuracy at each epoch\n",
    "        learning_rate = learning_rate\n",
    "\n",
    "        for epoch in range(epochs):\n",
    "            epoch_loss = 0\n",
    "            epoch_correct = 0\n",
    "\n",
    "            #Applying the learning rate decay at specific steps\n",
    "            if(epoch % decay_step == 0 and epochs != 0):\n",
    "                learning_rate = learning_rate * (1.0/ (1.0 +decay_rate * epoch))\n",
    "\n",
    "                #Print the new learning rate at each decay step\n",
    "                print(f'The learning rate at epoch {epoch} is :{learning_rate}')\n",
    "\n",
    "            #Shuffle the dataset at the start of each epoc\n",
    "            permutation = np.random.permutation(m)\n",
    "            X_shuffled = X[permutation]\n",
    "            Y_shuffled = Y[permutation]\n",
    "\n",
    "            #Divide the the dataset into mini-bathces  \n",
    "            for i in range(0,m - (m % batch_size),batch_size):\n",
    "                X_batch = X_shuffled[i:i+batch_size]\n",
    "                Y_batch = Y_shuffled[i:i+batch_size]\n",
    "\n",
    "                # Forward propagation\n",
    "                layer_outpus,D = self.forward_prop(X_batch )\n",
    "\n",
    "                # Calculate the loss and store it\n",
    "                last_layer = len(self.layer_sizes) - 2\n",
    "                loss = self.calculate_loss(layer_outpus[last_layer][0], Y_batch)\n",
    "                epoch_loss += loss\n",
    "\n",
    "\n",
    "                # Calculate the number of correct predictions\n",
    "                predictions = np.argmax(layer_outpus[last_layer][0], axis=0)\n",
    "                actuals = (Y_batch)\n",
    "                epoch_correct += np.sum(predictions == actuals)\n",
    "               \n",
    "                # Backward propagation\n",
    "                gradients=self.backward_prop(X_batch, Y_batch, layer_outpus,D)\n",
    "\n",
    "                # Updating gradients\n",
    "                self.update_gradient(gradients,learning_rate)\n",
    "\n",
    "            #Calculate the average loss for this epoch and store it \n",
    "            average_epoch_loss = epoch_loss / (m // batch_size)\n",
    "            average_epoch_accuracy = epoch_correct / (m)\n",
    "            accuracies.append(average_epoch_accuracy)\n",
    "            losses.append(average_epoch_loss)\n",
    "\n",
    "            #Print the loss at each epoch with decimal point 5\n",
    "            print(f'In  epoch  {epoch} loss  is : {average_epoch_loss:.5f} and accuracy is: {average_epoch_accuracy:.5f}')\n",
    "            \n",
    "        return losses,accuracies\n",
    "            \n",
    "    def predict(self,X):\n",
    "        layer_outputs,_ = self.forward_prop(X)\n",
    "        last_layer_acitvation = layer_outputs[len(self.layer_sizes) - 2][0]\n",
    "        predictions = np.argmax(last_layer_acitvation, axis=0)\n",
    "        return (last_layer_acitvation,predictions)\n",
    "\n",
    "    def accuracy_score(self,X,Y):\n",
    "        #The last layer of A3 is the probabilistic values of each class to calculate loss \n",
    "        last_layer_activation,predictions = self.predict(X)\n",
    "\n",
    "        size = Y.size\n",
    "                \n",
    "        correct = np.sum(predictions == Y)\n",
    "        accuracy = correct / size\n",
    "        return last_layer_activation,accuracy\n",
    "\n",
    "    def test(self,X,Y):\n",
    "        last_layer_acitvation,accuracy = self.accuracy_score(X,Y)\n",
    "        test_loss = self.calculate_loss(last_layer_acitvation, Y)\n",
    "        \n",
    "        return test_loss,accuracy                 "
   ]
  },
  {
   "cell_type": "markdown",
   "metadata": {},
   "source": [
    "## 2.2 Network Evaluation for different Architectures"
   ]
  },
  {
   "cell_type": "markdown",
   "metadata": {},
   "source": [
    "### 2.2.1 Simple Neural Network architecture (Perceptron) with Sigmoid"
   ]
  },
  {
   "cell_type": "markdown",
   "metadata": {},
   "source": [
    "- Built with 1 hidden layer of 112 nodes\n",
    "- Activation function used is 'Sigmoid' \n",
    "- No dropout applied \n",
    "\n",
    "- Number of epoch: 50 \n",
    "- Mini batch size: 100\n",
    "- Learning rate is initilized at 1 \n",
    "- decay rate is 0.1 to decrease learning rate in steps in 10 (decay_step)"
   ]
  },
  {
   "cell_type": "code",
   "execution_count": 14,
   "metadata": {},
   "outputs": [
    {
     "name": "stdout",
     "output_type": "stream",
     "text": [
      "Weights in layer : 0, Weights shape: (112, 784), Biases shape: (112, 1)\n",
      "Weights in layer : 1, Weights shape: (10, 112), Biases shape: (10, 1)\n"
     ]
    }
   ],
   "source": [
    "# Create a neural network object\n",
    "nn1 = MyNeuralNetwork(input_size=784, hidden_sizes=[112], output_size=10, activation_function='sigmoid',dropout=0.0)"
   ]
  },
  {
   "cell_type": "code",
   "execution_count": 15,
   "metadata": {},
   "outputs": [
    {
     "name": "stdout",
     "output_type": "stream",
     "text": [
      "The learning rate at epoch 0 is :1.0\n",
      "In  epoch  0 loss  is : 0.64693 and accuracy is: 0.88495\n",
      "In  epoch  1 loss  is : 0.33933 and accuracy is: 0.94235\n",
      "In  epoch  2 loss  is : 0.26099 and accuracy is: 0.95598\n",
      "In  epoch  3 loss  is : 0.21483 and accuracy is: 0.96407\n",
      "In  epoch  4 loss  is : 0.18208 and accuracy is: 0.96965\n",
      "In  epoch  5 loss  is : 0.15798 and accuracy is: 0.97475\n",
      "In  epoch  6 loss  is : 0.13998 and accuracy is: 0.97730\n",
      "In  epoch  7 loss  is : 0.12371 and accuracy is: 0.98013\n",
      "In  epoch  8 loss  is : 0.11082 and accuracy is: 0.98247\n",
      "In  epoch  9 loss  is : 0.10017 and accuracy is: 0.98468\n",
      "The learning rate at epoch 10 is :0.5\n",
      "In  epoch  10 loss  is : 0.08431 and accuracy is: 0.98835\n",
      "In  epoch  11 loss  is : 0.08004 and accuracy is: 0.98890\n",
      "In  epoch  12 loss  is : 0.07605 and accuracy is: 0.98965\n",
      "In  epoch  13 loss  is : 0.07245 and accuracy is: 0.99030\n",
      "In  epoch  14 loss  is : 0.06920 and accuracy is: 0.99055\n",
      "In  epoch  15 loss  is : 0.06609 and accuracy is: 0.99153\n",
      "In  epoch  16 loss  is : 0.06296 and accuracy is: 0.99187\n",
      "In  epoch  17 loss  is : 0.06027 and accuracy is: 0.99273\n",
      "In  epoch  18 loss  is : 0.05752 and accuracy is: 0.99300\n",
      "In  epoch  19 loss  is : 0.05524 and accuracy is: 0.99362\n",
      "The learning rate at epoch 20 is :0.16666666666666666\n",
      "In  epoch  20 loss  is : 0.05022 and accuracy is: 0.99497\n",
      "In  epoch  21 loss  is : 0.04939 and accuracy is: 0.99502\n",
      "In  epoch  22 loss  is : 0.04864 and accuracy is: 0.99510\n",
      "In  epoch  23 loss  is : 0.04796 and accuracy is: 0.99512\n",
      "In  epoch  24 loss  is : 0.04727 and accuracy is: 0.99537\n",
      "In  epoch  25 loss  is : 0.04665 and accuracy is: 0.99558\n",
      "In  epoch  26 loss  is : 0.04597 and accuracy is: 0.99565\n",
      "In  epoch  27 loss  is : 0.04528 and accuracy is: 0.99590\n",
      "In  epoch  28 loss  is : 0.04477 and accuracy is: 0.99598\n",
      "In  epoch  29 loss  is : 0.04409 and accuracy is: 0.99600\n",
      "The learning rate at epoch 30 is :0.041666666666666664\n",
      "In  epoch  30 loss  is : 0.04267 and accuracy is: 0.99640\n",
      "In  epoch  31 loss  is : 0.04246 and accuracy is: 0.99642\n",
      "In  epoch  32 loss  is : 0.04230 and accuracy is: 0.99638\n",
      "In  epoch  33 loss  is : 0.04217 and accuracy is: 0.99648\n",
      "In  epoch  34 loss  is : 0.04201 and accuracy is: 0.99645\n",
      "In  epoch  35 loss  is : 0.04187 and accuracy is: 0.99648\n",
      "In  epoch  36 loss  is : 0.04173 and accuracy is: 0.99645\n",
      "In  epoch  37 loss  is : 0.04160 and accuracy is: 0.99657\n",
      "In  epoch  38 loss  is : 0.04144 and accuracy is: 0.99643\n",
      "In  epoch  39 loss  is : 0.04132 and accuracy is: 0.99653\n",
      "The learning rate at epoch 40 is :0.008333333333333333\n",
      "In  epoch  40 loss  is : 0.04093 and accuracy is: 0.99670\n",
      "In  epoch  41 loss  is : 0.04090 and accuracy is: 0.99672\n",
      "In  epoch  42 loss  is : 0.04087 and accuracy is: 0.99670\n",
      "In  epoch  43 loss  is : 0.04084 and accuracy is: 0.99672\n",
      "In  epoch  44 loss  is : 0.04081 and accuracy is: 0.99667\n",
      "In  epoch  45 loss  is : 0.04079 and accuracy is: 0.99663\n",
      "In  epoch  46 loss  is : 0.04075 and accuracy is: 0.99667\n",
      "In  epoch  47 loss  is : 0.04073 and accuracy is: 0.99670\n",
      "In  epoch  48 loss  is : 0.04070 and accuracy is: 0.99665\n",
      "In  epoch  49 loss  is : 0.04067 and accuracy is: 0.99668\n"
     ]
    }
   ],
   "source": [
    "# Train the neural network\n",
    "losses,accuracies = nn1.train(X_train, y_train, learning_rate=1, epochs=50, batch_size=100,decay_rate=0.1,decay_step=10)"
   ]
  },
  {
   "cell_type": "code",
   "execution_count": 16,
   "metadata": {},
   "outputs": [
    {
     "name": "stdout",
     "output_type": "stream",
     "text": [
      "Test Loss: 0.135032472447331, Test Accuracy: 0.9758\n"
     ]
    }
   ],
   "source": [
    "# Test the neural network\n",
    "loss,acc = nn1.test(X_test, y_test)\n",
    "print(f'Test Loss: {loss}, Test Accuracy: {acc}')"
   ]
  },
  {
   "cell_type": "code",
   "execution_count": 29,
   "metadata": {},
   "outputs": [
    {
     "data": {
      "image/png": "[encoded data removed]",
      "text/plain": [
       "<Figure size 1500x500 with 2 Axes>"
      ]
     },
     "metadata": {},
     "output_type": "display_data"
    }
   ],
   "source": [
    "#Plot the loss and accuracy curves for the training process \n",
    "#Show it next to each other in the same figure\n",
    "\n",
    "fig, (ax1, ax2) = plt.subplots(1, 2,figsize=(15,5))\n",
    "fig.suptitle('Training Performance', fontsize=16)\n",
    "ax1.plot(losses, color='red', marker='o', linestyle='-', linewidth=2, markersize=6)\n",
    "ax1.set_xlabel('Number of Epochs')\n",
    "ax1.set_ylabel('Loss', fontsize=12)\n",
    "ax1.grid(True, linestyle='--', alpha=0.5)\n",
    "ax2.plot(accuracies, color='blue', marker='s', linestyle='-', linewidth=2, markersize=6)\n",
    "ax2.set_xlabel('Number of Epochs')\n",
    "ax2.set_ylabel('Accuracy', fontsize=12)\n",
    "ax2.grid(True, linestyle='--', alpha=0.5)\n",
    "# Adjust layout\n",
    "plt.tight_layout(pad=3.0)\n",
    "plt.show()"
   ]
  },
  {
   "cell_type": "markdown",
   "metadata": {},
   "source": [
    "### 2.2.1 Simple Neural Network architecture (Perceptron) with ReLU"
   ]
  },
  {
   "cell_type": "markdown",
   "metadata": {},
   "source": [
    "- Built with 1 hidden layer of 112 nodes\n",
    "- Activation function used is 'ReLU' \n",
    "- No dropout applied \n",
    "\n",
    "- Number of epoch: 50 \n",
    "- Mini batch size: 100\n",
    "- Learning rate is initilized at 1 \n",
    "- decay rate is 0.1 to decrease learning rate in steps in 10 (decay_step)"
   ]
  },
  {
   "cell_type": "code",
   "execution_count": 30,
   "metadata": {},
   "outputs": [
    {
     "name": "stdout",
     "output_type": "stream",
     "text": [
      "Weights in layer : 0, Weights shape: (112, 784), Biases shape: (112, 1)\n",
      "Weights in layer : 1, Weights shape: (10, 112), Biases shape: (10, 1)\n"
     ]
    }
   ],
   "source": [
    "# Create a neural network object\n",
    "nn1 = MyNeuralNetwork(input_size=784, hidden_sizes=[112], output_size=10, activation_function='relu',dropout=0.0)"
   ]
  },
  {
   "cell_type": "code",
   "execution_count": 31,
   "metadata": {},
   "outputs": [
    {
     "name": "stdout",
     "output_type": "stream",
     "text": [
      "The learning rate at epoch 0 is :1.0\n",
      "In  epoch  0 loss  is : 0.66829 and accuracy is: 0.89057\n",
      "In  epoch  1 loss  is : 0.29887 and accuracy is: 0.94797\n",
      "In  epoch  2 loss  is : 0.23516 and accuracy is: 0.95942\n",
      "In  epoch  3 loss  is : 0.19506 and accuracy is: 0.96732\n",
      "In  epoch  4 loss  is : 0.16599 and accuracy is: 0.97158\n",
      "In  epoch  5 loss  is : 0.14735 and accuracy is: 0.97525\n",
      "In  epoch  6 loss  is : 0.12961 and accuracy is: 0.97743\n",
      "In  epoch  7 loss  is : 0.11276 and accuracy is: 0.98083\n",
      "In  epoch  8 loss  is : 0.09971 and accuracy is: 0.98288\n",
      "In  epoch  9 loss  is : 0.09168 and accuracy is: 0.98397\n",
      "The learning rate at epoch 10 is :0.5\n",
      "In  epoch  10 loss  is : 0.05738 and accuracy is: 0.99077\n",
      "In  epoch  11 loss  is : 0.04843 and accuracy is: 0.99247\n",
      "In  epoch  12 loss  is : 0.04392 and accuracy is: 0.99338\n",
      "In  epoch  13 loss  is : 0.03911 and accuracy is: 0.99405\n",
      "In  epoch  14 loss  is : 0.03587 and accuracy is: 0.99485\n",
      "In  epoch  15 loss  is : 0.03239 and accuracy is: 0.99523\n",
      "In  epoch  16 loss  is : 0.03002 and accuracy is: 0.99597\n",
      "In  epoch  17 loss  is : 0.02673 and accuracy is: 0.99663\n",
      "In  epoch  18 loss  is : 0.02524 and accuracy is: 0.99700\n",
      "In  epoch  19 loss  is : 0.02186 and accuracy is: 0.99760\n",
      "The learning rate at epoch 20 is :0.16666666666666666\n",
      "In  epoch  20 loss  is : 0.01655 and accuracy is: 0.99875\n",
      "In  epoch  21 loss  is : 0.01536 and accuracy is: 0.99885\n",
      "In  epoch  22 loss  is : 0.01470 and accuracy is: 0.99900\n",
      "In  epoch  23 loss  is : 0.01432 and accuracy is: 0.99913\n",
      "In  epoch  24 loss  is : 0.01393 and accuracy is: 0.99910\n",
      "In  epoch  25 loss  is : 0.01345 and accuracy is: 0.99932\n",
      "In  epoch  26 loss  is : 0.01319 and accuracy is: 0.99915\n",
      "In  epoch  27 loss  is : 0.01284 and accuracy is: 0.99918\n",
      "In  epoch  28 loss  is : 0.01249 and accuracy is: 0.99925\n",
      "In  epoch  29 loss  is : 0.01213 and accuracy is: 0.99937\n",
      "The learning rate at epoch 30 is :0.041666666666666664\n",
      "In  epoch  30 loss  is : 0.01117 and accuracy is: 0.99942\n",
      "In  epoch  31 loss  is : 0.01103 and accuracy is: 0.99947\n",
      "In  epoch  32 loss  is : 0.01096 and accuracy is: 0.99943\n",
      "In  epoch  33 loss  is : 0.01088 and accuracy is: 0.99945\n",
      "In  epoch  34 loss  is : 0.01082 and accuracy is: 0.99947\n",
      "In  epoch  35 loss  is : 0.01074 and accuracy is: 0.99945\n",
      "In  epoch  36 loss  is : 0.01070 and accuracy is: 0.99947\n",
      "In  epoch  37 loss  is : 0.01062 and accuracy is: 0.99948\n",
      "In  epoch  38 loss  is : 0.01057 and accuracy is: 0.99948\n",
      "In  epoch  39 loss  is : 0.01051 and accuracy is: 0.99948\n",
      "The learning rate at epoch 40 is :0.008333333333333333\n",
      "In  epoch  40 loss  is : 0.01028 and accuracy is: 0.99953\n",
      "In  epoch  41 loss  is : 0.01025 and accuracy is: 0.99953\n",
      "In  epoch  42 loss  is : 0.01023 and accuracy is: 0.99953\n",
      "In  epoch  43 loss  is : 0.01022 and accuracy is: 0.99953\n",
      "In  epoch  44 loss  is : 0.01020 and accuracy is: 0.99953\n",
      "In  epoch  45 loss  is : 0.01019 and accuracy is: 0.99953\n",
      "In  epoch  46 loss  is : 0.01018 and accuracy is: 0.99953\n",
      "In  epoch  47 loss  is : 0.01017 and accuracy is: 0.99953\n",
      "In  epoch  48 loss  is : 0.01016 and accuracy is: 0.99953\n",
      "In  epoch  49 loss  is : 0.01015 and accuracy is: 0.99953\n"
     ]
    }
   ],
   "source": [
    "# Train the neural network\n",
    "losses,accuracies = nn1.train(X_train, y_train, learning_rate=1, epochs=50, batch_size=100,decay_rate=0.1,decay_step=10)"
   ]
  },
  {
   "cell_type": "code",
   "execution_count": 32,
   "metadata": {},
   "outputs": [
    {
     "name": "stdout",
     "output_type": "stream",
     "text": [
      "Test Loss: 0.22153568006032787, Test Accuracy: 0.9721\n"
     ]
    }
   ],
   "source": [
    "# Test the neural network\n",
    "loss,acc = nn1.test(X_test, y_test)\n",
    "print(f'Test Loss: {loss}, Test Accuracy: {acc}')"
   ]
  },
  {
   "cell_type": "code",
   "execution_count": 33,
   "metadata": {},
   "outputs": [
    {
     "data": {
      "image/png": "[encoded data removed]",
      "text/plain": [
       "<Figure size 1500x500 with 2 Axes>"
      ]
     },
     "metadata": {},
     "output_type": "display_data"
    }
   ],
   "source": [
    "#Plot the loss and accuracy curves for the training process \n",
    "#Show it next to each other in the same figure\n",
    "\n",
    "fig, (ax1, ax2) = plt.subplots(1, 2,figsize=(15,5))\n",
    "fig.suptitle('Training Performance', fontsize=16)\n",
    "ax1.plot(losses, color='red', marker='o', linestyle='-', linewidth=2, markersize=6)\n",
    "ax1.set_xlabel('Number of Epochs')\n",
    "ax1.set_ylabel('Loss', fontsize=12)\n",
    "ax1.grid(True, linestyle='--', alpha=0.5)\n",
    "ax2.plot(accuracies, color='blue', marker='s', linestyle='-', linewidth=2, markersize=6)\n",
    "ax2.set_xlabel('Number of Epochs')\n",
    "ax2.set_ylabel('Accuracy', fontsize=12)\n",
    "ax2.grid(True, linestyle='--', alpha=0.5)\n",
    "# Adjust layout\n",
    "plt.tight_layout(pad=3.0)\n",
    "plt.show()"
   ]
  },
  {
   "cell_type": "code",
   "execution_count": null,
   "metadata": {},
   "outputs": [],
   "source": []
  }
 ],
 "metadata": {
  "kernelspec": {
   "display_name": "base",
   "language": "python",
   "name": "python3"
  },
  "language_info": {
   "codemirror_mode": {
    "name": "ipython",
    "version": 3
   },
   "file_extension": ".py",
   "mimetype": "text/x-python",
   "name": "python",
   "nbconvert_exporter": "python",
   "pygments_lexer": "ipython3",
   "version": "3.10.9"
  }
 },
 "nbformat": 4,
 "nbformat_minor": 2
}

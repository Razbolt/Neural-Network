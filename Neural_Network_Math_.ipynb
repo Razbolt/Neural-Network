{
  "cells": [
    {
      "cell_type": "markdown",
      "metadata": {
        "colab_type": "text",
        "id": "view-in-github"
      },
      "source": [
        "<a href=\"https://colab.research.google.com/github/Razbolt/Neural-Network/blob/main/Neural_Network_Math_.ipynb\" target=\"_parent\"><img src=\"https://colab.research.google.com/assets/colab-badge.svg\" alt=\"Open In Colab\"/></a>"
      ]
    },
    {
      "cell_type": "markdown",
      "metadata": {
        "id": "_WGR6imnPESL"
      },
      "source": [
        "# 1.1 Install the MNIST and requirements"
      ]
    },
    {
      "cell_type": "code",
      "execution_count": 1,
      "metadata": {
        "id": "j7joMCD_8U_p"
      },
      "outputs": [],
      "source": [
        "import numpy as np\n",
        "import pandas as pd\n",
        "\n",
        "from matplotlib import pyplot as plt\n",
        "from sklearn.datasets import load_digits"
      ]
    },
    {
      "cell_type": "code",
      "execution_count": 2,
      "metadata": {
        "colab": {
          "base_uri": "https://localhost:8080/"
        },
        "id": "Q9rb-9S-KJrD",
        "outputId": "67a98d93-63de-44df-afcf-2b20f8dfb497"
      },
      "outputs": [
        {
          "name": "stdout",
          "output_type": "stream",
          "text": [
            "Collecting python-mnist\n",
            "  Using cached python_mnist-0.7-py2.py3-none-any.whl (9.6 kB)\n",
            "\u001b[31mERROR: Could not find a version that satisfies the requirement quiet (from versions: none)\u001b[0m\u001b[31m\n",
            "\u001b[0m\u001b[31mERROR: No matching distribution found for quiet\u001b[0m\u001b[31m\n",
            "\u001b[0mNote: you may need to restart the kernel to use updated packages.\n"
          ]
        }
      ],
      "source": [
        "pip install python-mnist -- quiet"
      ]
    },
    {
      "cell_type": "code",
      "execution_count": 3,
      "metadata": {
        "id": "qc1NylZkLXAz"
      },
      "outputs": [],
      "source": [
        "from keras.datasets import mnist\n",
        "\n",
        "# Using keras libraries to take MNIST dataset\n",
        "(X_train, y_train,), (X_test, y_test) = mnist.load_data()"
      ]
    },
    {
      "cell_type": "markdown",
      "metadata": {
        "id": "C6uJCuvDsoP2"
      },
      "source": [
        "## 1.1 Data preparation"
      ]
    },
    {
      "cell_type": "markdown",
      "metadata": {
        "id": "R4kGn7-Ps25y"
      },
      "source": [
        "Before procesing, we need to check the MNIST Data.\n",
        "\n",
        "As we can see the X_train data is numbered from 0 to 255. In order to use them we need to normalize them as dividing to 255 each of the value."
      ]
    },
    {
      "cell_type": "code",
      "execution_count": 4,
      "metadata": {
        "colab": {
          "base_uri": "https://localhost:8080/"
        },
        "id": "yZ1--VdWCEzT",
        "outputId": "69f3a8c0-361f-42e4-ea3b-07d7a0d456a2"
      },
      "outputs": [
        {
          "data": {
            "text/plain": [
              "array([[  0,   0,   0,   0,   0,   0,   0,   0,   0,   0,   0,   0,   0,\n",
              "          0,   0,   0,   0,   0,   0,   0,   0,   0,   0,   0,   0,   0,\n",
              "          0,   0],\n",
              "       [  0,   0,   0,   0,   0,   0,   0,   0,   0,   0,   0,   0,   0,\n",
              "          0,   0,   0,   0,   0,   0,   0,   0,   0,   0,   0,   0,   0,\n",
              "          0,   0],\n",
              "       [  0,   0,   0,   0,   0,   0,   0,   0,   0,   0,   0,   0,   0,\n",
              "          0,   0,   0,   0,   0,   0,   0,   0,   0,   0,   0,   0,   0,\n",
              "          0,   0],\n",
              "       [  0,   0,   0,   0,   0,   0,   0,   0,   0,   0,   0,   0,   0,\n",
              "          0,   0,   0,   0,   0,   0,   0,   0,   0,   0,   0,   0,   0,\n",
              "          0,   0],\n",
              "       [  0,   0,   0,   0,   0,   0,   0,   0,   0,   0,   0,   0,   0,\n",
              "          0,   0,   0,   0,   0,   0,   0,   0,   0,   0,   0,   0,   0,\n",
              "          0,   0],\n",
              "       [  0,   0,   0,   0,   0,   0,   0,   0,   0,   0,   0,   0,   3,\n",
              "         18,  18,  18, 126, 136, 175,  26, 166, 255, 247, 127,   0,   0,\n",
              "          0,   0],\n",
              "       [  0,   0,   0,   0,   0,   0,   0,   0,  30,  36,  94, 154, 170,\n",
              "        253, 253, 253, 253, 253, 225, 172, 253, 242, 195,  64,   0,   0,\n",
              "          0,   0],\n",
              "       [  0,   0,   0,   0,   0,   0,   0,  49, 238, 253, 253, 253, 253,\n",
              "        253, 253, 253, 253, 251,  93,  82,  82,  56,  39,   0,   0,   0,\n",
              "          0,   0],\n",
              "       [  0,   0,   0,   0,   0,   0,   0,  18, 219, 253, 253, 253, 253,\n",
              "        253, 198, 182, 247, 241,   0,   0,   0,   0,   0,   0,   0,   0,\n",
              "          0,   0],\n",
              "       [  0,   0,   0,   0,   0,   0,   0,   0,  80, 156, 107, 253, 253,\n",
              "        205,  11,   0,  43, 154,   0,   0,   0,   0,   0,   0,   0,   0,\n",
              "          0,   0],\n",
              "       [  0,   0,   0,   0,   0,   0,   0,   0,   0,  14,   1, 154, 253,\n",
              "         90,   0,   0,   0,   0,   0,   0,   0,   0,   0,   0,   0,   0,\n",
              "          0,   0],\n",
              "       [  0,   0,   0,   0,   0,   0,   0,   0,   0,   0,   0, 139, 253,\n",
              "        190,   2,   0,   0,   0,   0,   0,   0,   0,   0,   0,   0,   0,\n",
              "          0,   0],\n",
              "       [  0,   0,   0,   0,   0,   0,   0,   0,   0,   0,   0,  11, 190,\n",
              "        253,  70,   0,   0,   0,   0,   0,   0,   0,   0,   0,   0,   0,\n",
              "          0,   0],\n",
              "       [  0,   0,   0,   0,   0,   0,   0,   0,   0,   0,   0,   0,  35,\n",
              "        241, 225, 160, 108,   1,   0,   0,   0,   0,   0,   0,   0,   0,\n",
              "          0,   0],\n",
              "       [  0,   0,   0,   0,   0,   0,   0,   0,   0,   0,   0,   0,   0,\n",
              "         81, 240, 253, 253, 119,  25,   0,   0,   0,   0,   0,   0,   0,\n",
              "          0,   0],\n",
              "       [  0,   0,   0,   0,   0,   0,   0,   0,   0,   0,   0,   0,   0,\n",
              "          0,  45, 186, 253, 253, 150,  27,   0,   0,   0,   0,   0,   0,\n",
              "          0,   0],\n",
              "       [  0,   0,   0,   0,   0,   0,   0,   0,   0,   0,   0,   0,   0,\n",
              "          0,   0,  16,  93, 252, 253, 187,   0,   0,   0,   0,   0,   0,\n",
              "          0,   0],\n",
              "       [  0,   0,   0,   0,   0,   0,   0,   0,   0,   0,   0,   0,   0,\n",
              "          0,   0,   0,   0, 249, 253, 249,  64,   0,   0,   0,   0,   0,\n",
              "          0,   0],\n",
              "       [  0,   0,   0,   0,   0,   0,   0,   0,   0,   0,   0,   0,   0,\n",
              "          0,  46, 130, 183, 253, 253, 207,   2,   0,   0,   0,   0,   0,\n",
              "          0,   0],\n",
              "       [  0,   0,   0,   0,   0,   0,   0,   0,   0,   0,   0,   0,  39,\n",
              "        148, 229, 253, 253, 253, 250, 182,   0,   0,   0,   0,   0,   0,\n",
              "          0,   0],\n",
              "       [  0,   0,   0,   0,   0,   0,   0,   0,   0,   0,  24, 114, 221,\n",
              "        253, 253, 253, 253, 201,  78,   0,   0,   0,   0,   0,   0,   0,\n",
              "          0,   0],\n",
              "       [  0,   0,   0,   0,   0,   0,   0,   0,  23,  66, 213, 253, 253,\n",
              "        253, 253, 198,  81,   2,   0,   0,   0,   0,   0,   0,   0,   0,\n",
              "          0,   0],\n",
              "       [  0,   0,   0,   0,   0,   0,  18, 171, 219, 253, 253, 253, 253,\n",
              "        195,  80,   9,   0,   0,   0,   0,   0,   0,   0,   0,   0,   0,\n",
              "          0,   0],\n",
              "       [  0,   0,   0,   0,  55, 172, 226, 253, 253, 253, 253, 244, 133,\n",
              "         11,   0,   0,   0,   0,   0,   0,   0,   0,   0,   0,   0,   0,\n",
              "          0,   0],\n",
              "       [  0,   0,   0,   0, 136, 253, 253, 253, 212, 135, 132,  16,   0,\n",
              "          0,   0,   0,   0,   0,   0,   0,   0,   0,   0,   0,   0,   0,\n",
              "          0,   0],\n",
              "       [  0,   0,   0,   0,   0,   0,   0,   0,   0,   0,   0,   0,   0,\n",
              "          0,   0,   0,   0,   0,   0,   0,   0,   0,   0,   0,   0,   0,\n",
              "          0,   0],\n",
              "       [  0,   0,   0,   0,   0,   0,   0,   0,   0,   0,   0,   0,   0,\n",
              "          0,   0,   0,   0,   0,   0,   0,   0,   0,   0,   0,   0,   0,\n",
              "          0,   0],\n",
              "       [  0,   0,   0,   0,   0,   0,   0,   0,   0,   0,   0,   0,   0,\n",
              "          0,   0,   0,   0,   0,   0,   0,   0,   0,   0,   0,   0,   0,\n",
              "          0,   0]], dtype=uint8)"
            ]
          },
          "execution_count": 4,
          "metadata": {},
          "output_type": "execute_result"
        }
      ],
      "source": [
        "X_train[0]"
      ]
    },
    {
      "cell_type": "markdown",
      "metadata": {
        "id": "2UIxpHoosaud"
      },
      "source": [
        "We also need to check the shapes before feeding them into model."
      ]
    },
    {
      "cell_type": "code",
      "execution_count": 5,
      "metadata": {
        "colab": {
          "base_uri": "https://localhost:8080/"
        },
        "id": "lJs76_reOzPj",
        "outputId": "58d2aaa7-8d23-4874-ebe1-d9db9bec039c"
      },
      "outputs": [
        {
          "data": {
            "text/plain": [
              "(60000, 28, 28)"
            ]
          },
          "execution_count": 5,
          "metadata": {},
          "output_type": "execute_result"
        }
      ],
      "source": [
        "X_train.shape"
      ]
    },
    {
      "cell_type": "code",
      "execution_count": 6,
      "metadata": {
        "colab": {
          "base_uri": "https://localhost:8080/"
        },
        "id": "7zdUnLliLXu2",
        "outputId": "a875fade-abc2-4672-e997-f31a22e726a3"
      },
      "outputs": [
        {
          "data": {
            "text/plain": [
              "(10000, 28, 28)"
            ]
          },
          "execution_count": 6,
          "metadata": {},
          "output_type": "execute_result"
        }
      ],
      "source": [
        "X_test.shape"
      ]
    },
    {
      "cell_type": "code",
      "execution_count": 7,
      "metadata": {
        "colab": {
          "base_uri": "https://localhost:8080/"
        },
        "id": "e9u7khFALZFa",
        "outputId": "c548320b-5844-426d-acd8-87af98bae5e7"
      },
      "outputs": [
        {
          "data": {
            "text/plain": [
              "(28, 28)"
            ]
          },
          "execution_count": 7,
          "metadata": {},
          "output_type": "execute_result"
        }
      ],
      "source": [
        "X_train[1].shape"
      ]
    },
    {
      "cell_type": "code",
      "execution_count": 8,
      "metadata": {
        "colab": {
          "base_uri": "https://localhost:8080/"
        },
        "id": "8fHFqMAQBRrf",
        "outputId": "e16a193b-4b11-4f45-b77b-404151b3117e"
      },
      "outputs": [
        {
          "name": "stdout",
          "output_type": "stream",
          "text": [
            "(60000, 784) (10000, 784)\n"
          ]
        }
      ],
      "source": [
        "# Since we see the shapes are (6000,28,28) we need to reshape them to feed our model\n",
        "\n",
        "X_train = X_train.reshape(60000, 784) / 255.0\n",
        "\n",
        "X_test = X_test.reshape(10000, 784) /255.0\n",
        "\n",
        "print(X_train.shape , X_test.shape)"
      ]
    },
    {
      "cell_type": "code",
      "execution_count": 9,
      "metadata": {
        "colab": {
          "base_uri": "https://localhost:8080/"
        },
        "id": "K2e-p43TCRRW",
        "outputId": "00e7aa2a-5fd1-446f-ab04-35a963306807"
      },
      "outputs": [
        {
          "name": "stdout",
          "output_type": "stream",
          "text": [
            "(784,)\n"
          ]
        }
      ],
      "source": [
        "print(X_train[0].shape)"
      ]
    },
    {
      "cell_type": "markdown",
      "metadata": {
        "id": "aFbxcwcENmQk"
      },
      "source": [
        "# 2.1 Build Neural Network"
      ]
    },
    {
      "cell_type": "code",
      "execution_count": 10,
      "metadata": {
        "id": "6uqi_S-ZPhn9"
      },
      "outputs": [],
      "source": [
        "def init_params():\n",
        "\n",
        "  #input layer's weigths\n",
        "  W1 = np.random.uniform(-0.5, 0.5, (16,784))\n",
        "  b1 = np.zeros((16,1))\n",
        "\n",
        "\n",
        "\n",
        "\n",
        "  #Hidden layer's weight\n",
        "  W2 = np.random.uniform(-0.5,0.5, (16,16))\n",
        "  b2 = np.zeros((16,1))\n",
        "\n",
        "\n",
        "  # Second Hidden layer' weight\n",
        "  W3 = np.random.uniform(-0.5,0.5 ,(10,16))  # Weights are still to big\n",
        "  b3 = np.zeros((10,1))\n",
        "\n",
        "\n",
        "  return W1,b1,W2,b2,W3,b3\n",
        "\n",
        "\n",
        "\n",
        "W1,b1,W2,b2,W3,b3 = init_params()\n"
      ]
    },
    {
      "cell_type": "markdown",
      "metadata": {
        "id": "IRw2jsVWH0I4"
      },
      "source": [
        "## 2.2 Build Activation functions and Forward Propagation"
      ]
    },
    {
      "cell_type": "code",
      "execution_count": 11,
      "metadata": {
        "colab": {
          "base_uri": "https://localhost:8080/"
        },
        "id": "NBsAF3drU98m",
        "outputId": "338feec9-0fb4-468a-b7bd-2c24981b3517"
      },
      "outputs": [
        {
          "name": "stdout",
          "output_type": "stream",
          "text": [
            "[[0.01500404 0.05363104 0.04667131 ... 0.0143118  0.02702216 0.01056243]\n",
            " [0.15155112 0.11413338 0.17878081 ... 0.27793059 0.09523603 0.29578992]\n",
            " [0.04291546 0.1660734  0.1049816  ... 0.05985431 0.10995541 0.06958951]\n",
            " ...\n",
            " [0.00810561 0.05842213 0.06729381 ... 0.02289159 0.0573601  0.02675677]\n",
            " [0.00293193 0.05473835 0.04720537 ... 0.007879   0.05444545 0.01719433]\n",
            " [0.48170369 0.12393148 0.1797272  ... 0.30842978 0.10535148 0.23981536]]\n"
          ]
        }
      ],
      "source": [
        "def ReLU(Z):\n",
        "\n",
        "  return np.maximum(0,Z)\n",
        "\n",
        "\n",
        "def softmax(Z): # CHECK IT !!!\n",
        "\n",
        "  # for one examples is (np.exp(Z) / np.sum( np.exp(Z)))\n",
        "\n",
        "    Z_exp = np.exp(Z - np.max(Z, axis=0))\n",
        "    sum_Z_exp = np.sum(Z_exp, axis=0)\n",
        "    softmax_output = Z_exp / sum_Z_exp\n",
        "\n",
        "    return softmax_output\n",
        "\n",
        "def sigmoid(Z):\n",
        "\n",
        "  return 1 / 1+ np.exp(-Z)\n",
        "\n",
        "\n",
        "\n",
        "\n",
        "\n",
        "def forward_prop(X,W1,b1,W2,b2,W3,b3,dropout = 0.0):\n",
        "  #We are assuming to have 3 layered neural network \n",
        "  #D1 and D2 are mask layers for dropout \n",
        "\n",
        "  D1= None\n",
        "  D2=None\n",
        "\n",
        "  # if there is no dropout layer\n",
        "  if (dropout) == 0.0:\n",
        "    #Forward propagation with 3 layered neural network\n",
        "\n",
        "    #Initialize  Z\n",
        "    #Since X is shape as (6000,784) and our W1 is shape as (16,784) in order to dot product we need to take Transpose of X\n",
        "\n",
        "    Z1 = W1.dot(X.T)+ b1\n",
        "    #Activation with ReLU to given linear regression to feed neural network\n",
        "    A1 = ReLU(Z1)\n",
        "\n",
        "    Z2 = W2.dot(A1) + b2\n",
        "\n",
        "\n",
        "    A2 = ReLU(Z2)\n",
        "\n",
        "    Z3 = W3.dot(A2) + b3\n",
        "    #At the end softmax  the output layer to have a probabilistic values\n",
        "    A3 = softmax(Z3)\n",
        "\n",
        " \n",
        "\n",
        "  else: # If there is a droput layer, we are going to build mask for each layer\n",
        "    #Forward propagation with 3 layered neural network \n",
        "\n",
        "    Z1 = W1.dot(X.T)+ b1\n",
        "    #Activation with ReLU to given linear regression to feed neural network\n",
        "    A1 = ReLU(Z1)\n",
        "    \n",
        "    #Create a mask for A1 as use probability of dropout from user\n",
        "    D1 = np.random.rand(*A1.shape) > dropout #D1 is mask matrix that check the proability of dropout.\n",
        "                                                          #If the probability is bigger than dropout, it will be 1 otherwise 0\n",
        "\n",
        "    #Apply mask to A1\n",
        "    A1 = A1 * D1\n",
        "    #Normalize A1 to not to change expected value of A1 \n",
        "    A1 = A1 / (1-dropout) # It scales A to not to change expected value of A1 as keeping  probability \n",
        "                          #keeeping probability means 1 - dropout probability\n",
        "\n",
        "   \n",
        "    Z2 = W2.dot(A1) + b2\n",
        "    A2 = ReLU(Z2)\n",
        "    \n",
        "    #Create a mask for second hidden layer as use probability of dropout from user\n",
        "    D2 = np.random.rand( *A2.shape) > dropout\n",
        "    A2 = A2 * D2\n",
        "    A2 = A2 / (1-dropout)\n",
        "\n",
        "    Z3 = W3.dot(A2) + b3\n",
        "    #At the end softmax  the output layer to have a probabilistic values\n",
        "    A3 = softmax(Z3)\n",
        "\n",
        "  return A1,A2,A3,D1,D2\n",
        "\n",
        "A1,A2,A3,D1,D2 = forward_prop(X_train,W1,b1,W2,b2,W3,b3)\n",
        "\n",
        "print(A3)\n",
        "\n",
        "\n",
        "\n",
        "\n"
      ]
    },
    {
      "cell_type": "code",
      "execution_count": 12,
      "metadata": {},
      "outputs": [
        {
          "name": "stdout",
          "output_type": "stream",
          "text": [
            "60000\n"
          ]
        }
      ],
      "source": [
        "print(A1.shape[1])"
      ]
    },
    {
      "cell_type": "markdown",
      "metadata": {
        "id": "zFn_mUjHPKab"
      },
      "source": [
        "## 2.3 Back-Propagation with One-hot and derivative of activaton functions"
      ]
    },
    {
      "cell_type": "code",
      "execution_count": 13,
      "metadata": {
        "id": "5dhSX3T_HAx9"
      },
      "outputs": [],
      "source": [
        "def one_hot(Y): # CHECK IT !!\n",
        "  num_classes = np.max(Y) + 1\n",
        "\n",
        "  one_hot = np.zeros((Y.size,num_classes))\n",
        "  one_hot[np.arange(Y.size), Y] = 1\n",
        "\n",
        "  return one_hot.T\n",
        "\n",
        "def derivative_ReLU(Z):\n",
        "  #Do we need to check between 0-1 ?\n",
        "  return Z > 0\n",
        "\n",
        "#Focus on backpropagation !!! Check how its works ! \n",
        "def backward_prop(X, Y, W1, b1, W2, b2, W3, b3, A1, A2, A3,D1, D2, dropout = 0.0): # CHECK IT !!!!\n",
        "\n",
        "  m = Y.size\n",
        "  Y = one_hot(Y)\n",
        "  #if droput is not used\n",
        "\n",
        "  if (dropout) == 0.0:\n",
        "    \n",
        "    #One hot encoded to see each labels in matrix as 1\n",
        "    \n",
        "\n",
        "    #Derivate of cost function with respect to z3\n",
        "    dZ3 = A3 - Y\n",
        "    dW3 = (1/m) * dZ3.dot(A2.T)\n",
        "    dB3 = (1/m) * np.sum(dZ3,axis = 1,keepdims=True)\n",
        "\n",
        "    #Derivate for second hidden layer\n",
        "    dA2 = np.dot(W3.T,dZ3)\n",
        "    dZ2 =  dA2  * derivative_ReLU(A2)\n",
        "    dW2 = (1/ m) * dZ2.dot(A1.T)\n",
        "    dB2 = (1/m) * np.sum(dZ2,axis =1,keepdims=True)\n",
        "\n",
        "    #Derivate for first hidden layer\n",
        "\n",
        "    dA1 = np.dot(W2.T,dZ2)\n",
        "    dZ1 = dA1 * derivative_ReLU(A1)\n",
        "    dW1 = (1/m) * dZ1.dot(X)\n",
        "    dB1 =(1/m) * np.sum(dZ1, axis = 1,keepdims=True)\n",
        "\n",
        "  else: #If droput is used\n",
        "\n",
        "    #Derivate of cost function with respect to z3\n",
        "    dZ3 = A3 - Y\n",
        "    dW3 = (1/m) * dZ3.dot(A2.T)\n",
        "    dB3 = (1/m) * np.sum(dZ3,axis = 1,keepdims=True)\n",
        "\n",
        "    #Derivate for second hidden layer\n",
        "    dA2 = np.dot(W3.T,dZ3)\n",
        "    #Dropout mask for second hidden layer\n",
        "    dA2 = dA2 * (D2)\n",
        "    #dA2 = D2 / dropout\n",
        "\n",
        "    dZ2 =  dA2  * derivative_ReLU(A2)\n",
        "    dW2 = (1/ m) * dZ2.dot(A1.T)\n",
        "    dB2 = (1/m) * np.sum(dZ2,axis =1,keepdims=True)\n",
        "\n",
        "    #Derivate for first hidden layer\n",
        "\n",
        "    dA1 = np.dot(W2.T,dZ2)\n",
        "    #Dropout mask for first hidden layer\n",
        "    dA1 = dA1 * (D1)\n",
        "    #dA1 = D1 / dropout\n",
        "\n",
        "    dZ1 = dA1 * derivative_ReLU(A1)\n",
        "    dW1 = (1/m) * dZ1.dot(X)\n",
        "    dB1 =(1/m) * np.sum(dZ1, axis = 1,keepdims=True)\n",
        "    \n",
        "\n",
        "  return dW1,dB1,dW2,dB2,dW3,dB3"
      ]
    },
    {
      "cell_type": "markdown",
      "metadata": {
        "id": "7tYISPvOQRQn"
      },
      "source": [
        "## 2.4 Update the Gradient"
      ]
    },
    {
      "cell_type": "code",
      "execution_count": 14,
      "metadata": {
        "id": "MFbTDfoWQYq-"
      },
      "outputs": [],
      "source": [
        "learning_rate = 0.1\n",
        "epochs =  200\n",
        "\n",
        "def update_gradient(dW1,db1,dW2,db2,dW3,db3,W1,b1,W2,b2,W3,b3,learning_rate):\n",
        "\n",
        "    W1 -= learning_rate * dW1\n",
        "    b1 -= learning_rate * db1\n",
        "    W2 -= learning_rate * dW2\n",
        "    b2 -= learning_rate * db2\n",
        "    W3 -= learning_rate * dW3\n",
        "    b3 -= learning_rate * db3\n",
        "\n",
        "    return W1,b1,W2,b2,W3,b3\n"
      ]
    },
    {
      "cell_type": "markdown",
      "metadata": {
        "id": "Mhb1TpDrQtKt"
      },
      "source": [
        "## 2.5 Try in given epochs time to see the changes"
      ]
    },
    {
      "cell_type": "code",
      "execution_count": 15,
      "metadata": {
        "id": "i-QTIprNdkBP"
      },
      "outputs": [],
      "source": [
        "def accuracy_score(A,Y):\n",
        "    size = Y.size\n",
        "    predict = np.argmax(A,0)\n",
        "\n",
        "    correct = np.sum(predict == Y)\n",
        "\n",
        "    accuracy = correct / size\n",
        "\n",
        "    return accuracy\n",
        "\n",
        "\n",
        "#print(predictions.max)\n",
        "#print(y_train)\n",
        "#print(np.sum(y_train == predictions))\n",
        "#print(y_train.size)\n"
      ]
    },
    {
      "cell_type": "code",
      "execution_count": 16,
      "metadata": {
        "colab": {
          "base_uri": "https://localhost:8080/"
        },
        "id": "yLlbWaJGN7Pw",
        "outputId": "eecb592c-7f38-4726-8423-b3297eaa559c"
      },
      "outputs": [
        {
          "name": "stdout",
          "output_type": "stream",
          "text": [
            "The accuracy in epoch 0 is 0.10631666666666667\n",
            "The accuracy in epoch 100 is 0.4109333333333333\n"
          ]
        }
      ],
      "source": [
        "dropout = 0.1\n",
        "for epoch in range(epochs):\n",
        "   # Forward propagation\n",
        "   A1, A2, A3,D1,D2 = forward_prop(X_train, W1, b1, W2, b2, W3, b3,dropout=dropout)\n",
        "\n",
        "   #Backward propagation\n",
        "   dW1, db1, dW2, db2, dW3, db3 = backward_prop(X_train, y_train, W1, b1, W2, b2, W3, b3, A1, A2, A3,D1,D2,dropout=dropout)\n",
        "\n",
        "   #Updating gradients\n",
        "   W1,b1,W2,b2,W3,b3 = update_gradient(dW1,db1,dW2,db2,dW3,db3,W1,b1,W2,b2,W3,b3,learning_rate)\n",
        "\n",
        "\n",
        "\n",
        "   if epoch % 100 == 0:\n",
        "    acc =accuracy_score(A3,y_train)\n",
        "    print(f'The accuracy in epoch {epoch} is {acc}')\n"
      ]
    },
    {
      "cell_type": "markdown",
      "metadata": {},
      "source": [
        "# Full Connected Class Version "
      ]
    },
    {
      "cell_type": "markdown",
      "metadata": {},
      "source": [
        "  Missing parts\n",
        "\n",
        "Only update rule\n",
        "\n",
        "Find refferences for this code, maybe one hot, and test \n"
      ]
    },
    {
      "cell_type": "code",
      "execution_count": 433,
      "metadata": {},
      "outputs": [],
      "source": [
        "import numpy as np\n",
        "\n",
        "class MyNeuralNetwork:\n",
        "    def __init__(self,input_size,hidden_sizes,output_size,activation_function,dropout):\n",
        "        self.layer_sizes = [input_size] + hidden_sizes + [output_size] # Number of neurons in each layer\n",
        "        self.activation_function = activation_function                 # Activation function to use\n",
        "        self.dropout = dropout                                         # Dropout probability\n",
        "        self.weights = []                                              # Weights for each layer\n",
        "        self.biases = []                                               # Biases for each layer\n",
        "        self.input_size = input_size                                   # Input size\n",
        "        self.output_size = output_size                                 # Output size              \n",
        "        self.hidden_sizes = hidden_sizes                               # Hidden layer sizes\n",
        "\n",
        "\n",
        "        for i in range(len(self.layer_sizes) - 1):\n",
        "            self.weights.append(np.random.uniform(-0.5, 0.5, (self.layer_sizes[i+1], self.layer_sizes[i])))\n",
        "            self.biases.append(np.zeros((self.layer_sizes[i+1], 1)))\n",
        "\n",
        "            #Debug: Print shapes\n",
        "            print(f\"Weights in layer : {i}, Weights shape: {self.weights[i].shape}, Biases shape: {self.biases[i].shape}\")\n",
        "    \n",
        "    #Staticmethod is used to call the function without creating an object\n",
        "    #In this way we can call them in the activation function and deactivation function\n",
        "    @staticmethod  \n",
        "    def ReLU(Z):\n",
        "        return np.maximum(0,Z)\n",
        "    \n",
        "    @staticmethod\n",
        "    def derivative_ReLU(Z):\n",
        "        return Z > 0\n",
        "    \n",
        "    @staticmethod\n",
        "    def sigmoid(Z):\n",
        "        # Cap the values of Z within the range [-700, 700], to prevent overflow\n",
        "        Z = np.clip(Z, -700, 700)\n",
        "        return 1 / (1 + np.exp(-Z))\n",
        "    \n",
        "    @staticmethod\n",
        "    def derivative_sigmoid(Z):\n",
        "        return MyNeuralNetwork.sigmoid(Z) * (1 - MyNeuralNetwork.sigmoid(Z))\n",
        "    \n",
        "    @staticmethod\n",
        "    def softmax(Z):\n",
        "        Z_exp = np.exp(Z - np.max(Z, axis=0))\n",
        "        sum_Z_exp = np.sum(Z_exp, axis=0)\n",
        "        softmax_output = Z_exp / sum_Z_exp\n",
        "        return softmax_output\n",
        "    \n",
        "\n",
        "    \n",
        "    def one_hot(self,Y):\n",
        "        num_classes = self.output_size\n",
        "        one_hot = np.zeros((Y.size,num_classes))\n",
        "        one_hot[np.arange(Y.size), Y] = 1\n",
        "        return one_hot.T\n",
        "    \n",
        "    \n",
        "    def activation(self,Z):\n",
        "        if self.activation_function == 'relu':\n",
        "            return self.ReLU(Z)\n",
        "        elif self.activation_function == 'sigmoid':\n",
        "            return self.sigmoid(Z)\n",
        "        elif self.activation_function == 'softmax':\n",
        "            return self.softmax(Z)\n",
        "        else:\n",
        "            raise Exception('Activation function not supported')\n",
        "        \n",
        "    def derivative_activation(self,A):\n",
        "        if self.activation_function == 'relu':\n",
        "            return self.derivative_ReLU(A)\n",
        "        elif self.activation_function == 'sigmoid':\n",
        "            return self.derivative_sigmoid(A)\n",
        "        else:\n",
        "            raise Exception('Activation function not supported')\n",
        "        \n",
        "    def calculate_loss(self,A3,Y):\n",
        "        # Calculate the loss using the cross-entropy loss function\n",
        "        #Calcuation should be based on y_pred and y_true\n",
        "\n",
        "        y_pred = A3\n",
        "        y_true = self.one_hot(Y)\n",
        "\n",
        "        #Clip the y_prediction between epsilon and 1 - epsilon to prevent log(0) error\n",
        "        y_pred = np.clip(y_pred, 1e-15, 1 - 1e-15)\n",
        "\n",
        "        #Calculate the loss as multi-class cross-entropy loss\n",
        "        loss = - y_true * np.log(y_pred) - (1 - y_true) * np.log(1 - y_pred)\n",
        "        loss = np.sum(loss) / Y.size\n",
        "\n",
        "        return loss\n",
        "    \n",
        "    \n",
        "    def forward_prop(self,X):\n",
        "        # Forward propagation\n",
        "        A = X.T\n",
        "        layer_outputs = {}\n",
        "        D = {} # Dropout mask matrices\n",
        "\n",
        "        #Loop over each layer in the network\n",
        "        for layer in range(len(self.layer_sizes)-1):\n",
        "            # Compute the linear output Z for the current layer\n",
        "            Z = self.weights[layer].dot(A) + self.biases[layer]\n",
        "\n",
        "            #Check for the if not the last layer, and apply the activation function\n",
        "            if (layer != len(self.layer_sizes) - 2 ):\n",
        "                A = self.activation(Z)\n",
        "                #Check for dropout and apply it accordingly \n",
        "                if self.dropout > 0: #apply dropout\n",
        "\n",
        "                    '''\n",
        "\n",
        "                    This line of code for dropout inspired from Andrew Ng's Deep Learning Specialization Course\n",
        "                    https://www.youtube.com/watch?v=D8PJAL-MZv8\n",
        "                    '''       \n",
        "\n",
        "                    #Create a dropout mask matrix to be dropoutted neurons\n",
        "                    D[layer] = np.random.rand(*A.shape) > self.dropout\n",
        "                    #Apply the mask to A\n",
        "                    A = A * D[layer]\n",
        "                    #Normalize A to not to change expected value of A as keeping  probability\n",
        "                    A = A / (1 - self.dropout)\n",
        "                    \n",
        "            #if there is no dropout\n",
        "            else: #for the last layer use softmax activation function\n",
        "                A = self.softmax(Z)\n",
        "            layer_outputs[layer] = (A,Z)\n",
        "            #Debuging: Print shapes\n",
        "            #print(f\"Forward Propagation, Layer: {layer}, A shape: {A.shape}, Z shape: {Z.shape}\")\n",
        "        \n",
        "        return layer_outputs,D\n",
        "    \n",
        "    def backward_prop(self, X, Y, layer_outputs, D):\n",
        "\n",
        "        m = X.shape[0]  # Number of training examples\n",
        "        Y = self.one_hot(Y)  # One hot encode the labels\n",
        "        gradients = {}  # Dictionary to store the gradients for each layer\n",
        "        dZ = None \n",
        "        for layer in reversed(range(len(self.layer_sizes) - 1)): # Layers are backwardley calculate the gradients\n",
        "            A, Z = layer_outputs[layer]                          # Get the layer's activations and linear outputs\n",
        "\n",
        "            if layer == len(self.layer_sizes) - 2:  # Gradient for the last layer\n",
        "                dZ = A - Y\n",
        "                \n",
        "            else:                                  # Gradient for the hidden layers\n",
        "                dA = np.dot(self.weights[layer + 1].T, dZ)\n",
        "                if self.dropout > 0:               # Apply dropout   \n",
        "                    dA *= D[layer]\n",
        "                dZ = dA * self.derivative_activation(Z)\n",
        "\n",
        "            prev_A = layer_outputs[layer - 1][0] if layer != 0 else X.T     #If layer is not last one takes the previous layer's activation\n",
        "                                                                            #If layers is last one takes the input X\n",
        "            # Debugging: Print shapes\n",
        "            #print(f\" Backward_prop ,Layer: {layer}, prev_A shape: {prev_A.shape}, dZ.T shape: {dZ.T.shape}\")\n",
        "\n",
        "            #Calculate the gradients for each layer  and store them in gradients dictionary\n",
        "            dW = np.dot(dZ, prev_A.T) / m\n",
        "            db = np.sum(dZ, axis=1, keepdims=True) / m\n",
        "\n",
        "            gradients[layer] = (dW, db)\n",
        "\n",
        "        return gradients\n",
        "\n",
        "\n",
        "        \n",
        "    \n",
        "    def update_gradient(self,gradients,learning_rate):\n",
        "        # Update the weights and biases using gradient descent\n",
        "        for layer in range(len(self.layer_sizes) - 1):  # Corrected here\n",
        "            dW,db = gradients[layer]\n",
        "\n",
        "            self.weights[layer] -= learning_rate * dW\n",
        "            self.biases[layer] -= learning_rate * db\n",
        "\n",
        "    \n",
        "\n",
        "\n",
        "    def train(self,X,Y,learning_rate,epochs,batch_size,decay_rate,decay_step): \n",
        "        \"\"\"\n",
        "        Trains the neural network using the given training data.\n",
        "\n",
        "        Parameters:\n",
        "        self : MyNeuralNetwork\n",
        "            The neural network object to train.\n",
        "            \n",
        "\n",
        "        X = numpy.ndarray\n",
        "            The input data, wehere each row is a training example and each column is a feature.\n",
        "\n",
        "        Y = numpy.ndarray\n",
        "            The labels for each training example, where each row is a label. Must have the same number of rows as X.\n",
        "\n",
        "        learning_rate : float\n",
        "            The learning rate to use for weight updates in gradient descent.\n",
        "        epochs : int\n",
        "            The number of times to iterate over the entire training set.\n",
        "\n",
        "        batch_size : int\n",
        "            The number of training examples to split the training set into for mini-batch gradient descent.\n",
        "        \n",
        "        Returns:\n",
        "        None\n",
        "        \"\"\"\n",
        "        m = X.shape[0]\n",
        "        losses = [] # Array to store the loss at each epoch\n",
        "        accuracies = [] # Array to store the accuracy at each epoch\n",
        "        learning_rate = learning_rate\n",
        "\n",
        "        for epoch in range(epochs):\n",
        "            epoch_loss = 0\n",
        "            epoch_correct = 0\n",
        "\n",
        "            #Applying the learning rate decay at specific steps\n",
        "            if(epoch % decay_step == 0 and epochs != 0):\n",
        "                learning_rate = learning_rate * (1.0/ (1.0 +decay_rate * epoch))\n",
        "\n",
        "                #Print the new learning rate at each decay step\n",
        "                print(f'The learning rate at epoch {epoch} is :{learning_rate}')\n",
        "\n",
        "            #Shuffle the dataset at the start of each epoc\n",
        "            permutation = np.random.permutation(m)\n",
        "            X_shuffled = X[permutation]\n",
        "            Y_shuffled = Y[permutation]\n",
        "\n",
        "            #Divide the the dataset into mini-bathces  \n",
        "            for i in range(0,m - (m % batch_size),batch_size):\n",
        "                X_batch = X_shuffled[i:i+batch_size]\n",
        "                Y_batch = Y_shuffled[i:i+batch_size]\n",
        "\n",
        "                # Forward propagation\n",
        "                layer_outpus,D = self.forward_prop(X_batch )\n",
        "\n",
        "                # Calculate the loss and store it\n",
        "                last_layer = len(self.layer_sizes) - 2\n",
        "                loss = self.calculate_loss(layer_outpus[last_layer][0], Y_batch)\n",
        "                epoch_loss += loss\n",
        "\n",
        "\n",
        "                # Calculate the number of correct predictions\n",
        "                predictions = np.argmax(layer_outpus[last_layer][0], axis=0)\n",
        "                actuals = (Y_batch)\n",
        "                epoch_correct += np.sum(predictions == actuals)\n",
        "\n",
        "\n",
        "\n",
        "\n",
        "                \n",
        "\n",
        "                # Backward propagation\n",
        "                gradients=self.backward_prop(X_batch, Y_batch, layer_outpus,D)\n",
        "\n",
        "                # Updating gradients\n",
        "                self.update_gradient(gradients,learning_rate)\n",
        "\n",
        "            #Calculate the average loss for this epoch and store it \n",
        "            average_epoch_loss = epoch_loss / (m // batch_size)\n",
        "            average_epoch_accuracy = epoch_correct / (m)\n",
        "            accuracies.append(average_epoch_accuracy)\n",
        "            losses.append(average_epoch_loss)\n",
        "\n",
        "            #Print the loss at each epoch with decimal point 5\n",
        "            print(f'In  epoch  {epoch} loss  is : {average_epoch_loss:.5f} and accuracy is: {average_epoch_accuracy:.5f}')\n",
        "            \n",
        "        return losses,accuracies\n",
        "            \n",
        "\n",
        "    def predict(self,X):\n",
        "        layer_outputs,_ = self.forward_prop(X)\n",
        "        last_layer_acitvation = layer_outputs[len(self.layer_sizes) - 2][0]\n",
        "        predictions = np.argmax(last_layer_acitvation, axis=0)\n",
        "        return (last_layer_acitvation,predictions)\n",
        "\n",
        "    def accuracy_score(self,X,Y):\n",
        "        #The last layer of A3 is the probabilistic values of each class to calculate loss \n",
        "        last_layer_activation,predictions = self.predict(X)\n",
        "\n",
        "        size = Y.size\n",
        "        \n",
        "        \n",
        "        correct = np.sum(predictions == Y)\n",
        "        accuracy = correct / size\n",
        "        return last_layer_activation,accuracy\n",
        "\n",
        "    def test(self,X,Y):\n",
        "        last_layer_acitvation,accuracy = self.accuracy_score(X,Y)\n",
        "        test_loss = self.calculate_loss(last_layer_acitvation, Y)\n",
        "        \n",
        "        return test_loss,accuracy\n",
        "        \n",
        "\n",
        "    \n",
        "\n",
        "\n",
        "        \n",
        "\n",
        "    \n",
        "    "
      ]
    },
    {
      "cell_type": "markdown",
      "metadata": {},
      "source": [
        "# Evaluation for different Architectures "
      ]
    },
    {
      "cell_type": "markdown",
      "metadata": {},
      "source": [
        "Lets create different Architecutres to comparsion"
      ]
    },
    {
      "cell_type": "markdown",
      "metadata": {},
      "source": [
        "## 1. First Neural Architecture"
      ]
    },
    {
      "cell_type": "markdown",
      "metadata": {},
      "source": [
        "In this Neural Network\n",
        "- Its builded as 3 hidden layer as their inputs sizes 16 consequently\n",
        "- Activation function as 'Sigmoid' \n",
        "- No dropout applied \n",
        "\n",
        "- Epoch applied as 50 times\n",
        "- Mini batch size as 56 \n",
        "- Learning rate is initilized as 1 \n",
        "- decay rate is 0.1 to decrease learning rate in steps in 10 (decay_step)"
      ]
    },
    {
      "cell_type": "code",
      "execution_count": 434,
      "metadata": {},
      "outputs": [
        {
          "name": "stdout",
          "output_type": "stream",
          "text": [
            "Weights in layer : 0, Weights shape: (16, 784), Biases shape: (16, 1)\n",
            "Weights in layer : 1, Weights shape: (16, 16), Biases shape: (16, 1)\n",
            "Weights in layer : 2, Weights shape: (10, 16), Biases shape: (10, 1)\n"
          ]
        }
      ],
      "source": [
        "# Create a neural network object\n",
        "nn1 = MyNeuralNetwork(input_size=784, hidden_sizes=[16,16], output_size=10, activation_function='sigmoid',dropout=0.0)\n",
        "\n",
        "\n",
        "\n"
      ]
    },
    {
      "cell_type": "code",
      "execution_count": 435,
      "metadata": {},
      "outputs": [
        {
          "name": "stdout",
          "output_type": "stream",
          "text": [
            "The learning rate at epoch 0 is :1.0\n",
            "In  epoch  0 loss  is : 0.94108 and accuracy is: 0.82677\n",
            "In  epoch  1 loss  is : 0.45724 and accuracy is: 0.92078\n",
            "In  epoch  2 loss  is : 0.37915 and accuracy is: 0.93517\n",
            "In  epoch  3 loss  is : 0.34032 and accuracy is: 0.94088\n",
            "In  epoch  4 loss  is : 0.31510 and accuracy is: 0.94495\n",
            "In  epoch  5 loss  is : 0.29554 and accuracy is: 0.94793\n",
            "In  epoch  6 loss  is : 0.28207 and accuracy is: 0.95118\n",
            "In  epoch  7 loss  is : 0.27146 and accuracy is: 0.95177\n",
            "In  epoch  8 loss  is : 0.25953 and accuracy is: 0.95517\n",
            "In  epoch  9 loss  is : 0.25507 and accuracy is: 0.95603\n",
            "The learning rate at epoch 10 is :0.5\n",
            "In  epoch  10 loss  is : 0.21802 and accuracy is: 0.96282\n",
            "In  epoch  11 loss  is : 0.21032 and accuracy is: 0.96470\n",
            "In  epoch  12 loss  is : 0.20667 and accuracy is: 0.96473\n",
            "In  epoch  13 loss  is : 0.20306 and accuracy is: 0.96527\n",
            "In  epoch  14 loss  is : 0.19858 and accuracy is: 0.96550\n",
            "In  epoch  15 loss  is : 0.19761 and accuracy is: 0.96577\n",
            "In  epoch  16 loss  is : 0.19344 and accuracy is: 0.96657\n",
            "In  epoch  17 loss  is : 0.19114 and accuracy is: 0.96702\n",
            "In  epoch  18 loss  is : 0.18764 and accuracy is: 0.96823\n",
            "In  epoch  19 loss  is : 0.18810 and accuracy is: 0.96738\n",
            "The learning rate at epoch 20 is :0.16666666666666666\n",
            "In  epoch  20 loss  is : 0.16509 and accuracy is: 0.97235\n",
            "In  epoch  21 loss  is : 0.16147 and accuracy is: 0.97328\n",
            "In  epoch  22 loss  is : 0.16071 and accuracy is: 0.97343\n",
            "In  epoch  23 loss  is : 0.15960 and accuracy is: 0.97367\n",
            "In  epoch  24 loss  is : 0.15802 and accuracy is: 0.97400\n",
            "In  epoch  25 loss  is : 0.15698 and accuracy is: 0.97397\n",
            "In  epoch  26 loss  is : 0.15637 and accuracy is: 0.97422\n",
            "In  epoch  27 loss  is : 0.15553 and accuracy is: 0.97373\n",
            "In  epoch  28 loss  is : 0.15472 and accuracy is: 0.97420\n",
            "In  epoch  29 loss  is : 0.15383 and accuracy is: 0.97453\n",
            "The learning rate at epoch 30 is :0.041666666666666664\n",
            "In  epoch  30 loss  is : 0.14643 and accuracy is: 0.97642\n",
            "In  epoch  31 loss  is : 0.14569 and accuracy is: 0.97660\n",
            "In  epoch  32 loss  is : 0.14549 and accuracy is: 0.97670\n",
            "In  epoch  33 loss  is : 0.14479 and accuracy is: 0.97668\n",
            "In  epoch  34 loss  is : 0.14500 and accuracy is: 0.97700\n",
            "In  epoch  35 loss  is : 0.14479 and accuracy is: 0.97645\n",
            "In  epoch  36 loss  is : 0.14450 and accuracy is: 0.97697\n",
            "In  epoch  37 loss  is : 0.14419 and accuracy is: 0.97695\n",
            "In  epoch  38 loss  is : 0.14396 and accuracy is: 0.97700\n",
            "In  epoch  39 loss  is : 0.14377 and accuracy is: 0.97672\n",
            "The learning rate at epoch 40 is :0.008333333333333333\n",
            "In  epoch  40 loss  is : 0.14186 and accuracy is: 0.97755\n",
            "In  epoch  41 loss  is : 0.14163 and accuracy is: 0.97737\n",
            "In  epoch  42 loss  is : 0.14165 and accuracy is: 0.97755\n",
            "In  epoch  43 loss  is : 0.14156 and accuracy is: 0.97752\n",
            "In  epoch  44 loss  is : 0.14156 and accuracy is: 0.97745\n",
            "In  epoch  45 loss  is : 0.14151 and accuracy is: 0.97748\n",
            "In  epoch  46 loss  is : 0.14145 and accuracy is: 0.97757\n",
            "In  epoch  47 loss  is : 0.14134 and accuracy is: 0.97740\n",
            "In  epoch  48 loss  is : 0.14129 and accuracy is: 0.97752\n",
            "In  epoch  49 loss  is : 0.14131 and accuracy is: 0.97742\n"
          ]
        }
      ],
      "source": [
        "\n",
        "# Train the neural network\n",
        "losses,accuracies = nn1.train(X_train, y_train, learning_rate=1, epochs=50, batch_size=56,decay_rate=0.1,decay_step=10)"
      ]
    },
    {
      "cell_type": "code",
      "execution_count": 436,
      "metadata": {},
      "outputs": [
        {
          "name": "stdout",
          "output_type": "stream",
          "text": [
            "Test Loss: 0.29733708111301305, Test Accuracy: 0.9517\n"
          ]
        }
      ],
      "source": [
        "# Test the neural network\n",
        "loss,acc = nn1.test(X_test, y_test)\n",
        "print(f'Test Loss: {loss}, Test Accuracy: {acc}')\n"
      ]
    },
    {
      "cell_type": "code",
      "execution_count": 437,
      "metadata": {},
      "outputs": [
        {
          "data": {
            "image/png": "[encoded data removed]",
            "text/plain": [
              "<Figure size 1500x500 with 2 Axes>"
            ]
          },
          "metadata": {},
          "output_type": "display_data"
        }
      ],
      "source": [
        "import matplotlib.pyplot as plt\n",
        "\n",
        "#Plot the loss and accuracy curves for the training process \n",
        "#Show it next to each other in the same figure\n",
        "\n",
        "fig, (ax1, ax2) = plt.subplots(1, 2,figsize=(15,5))\n",
        "fig.suptitle('Loss and Accuracy')\n",
        "ax1.plot(losses)\n",
        "ax1.set_title('Loss')\n",
        "ax2.plot(accuracies)\n",
        "ax2.set_title('Accuracy')\n",
        "plt.show()\n",
        "\n"
      ]
    },
    {
      "cell_type": "markdown",
      "metadata": {},
      "source": [
        "## 2. Second Neural Architecture\n",
        "\n",
        "In this one there are few updates:\n",
        "\n",
        "- Its builded as 4 hidden layer as their inputs 128,56,18,18\n",
        "\n",
        "- Activation function as 'sigmoid' \n",
        "- Dropout applied as 0.15\n",
        "- Epoch applied as 100 times \n",
        "- Mini batch size as 128 \n",
        "- Learning rate is initilized as 1 \n",
        "- decay rate is 0.1 to decrease learning rate in steps in 10 (decay_step)"
      ]
    },
    {
      "cell_type": "code",
      "execution_count": 438,
      "metadata": {},
      "outputs": [
        {
          "name": "stdout",
          "output_type": "stream",
          "text": [
            "Weights in layer : 0, Weights shape: (128, 784), Biases shape: (128, 1)\n",
            "Weights in layer : 1, Weights shape: (56, 128), Biases shape: (56, 1)\n",
            "Weights in layer : 2, Weights shape: (16, 56), Biases shape: (16, 1)\n",
            "Weights in layer : 3, Weights shape: (16, 16), Biases shape: (16, 1)\n",
            "Weights in layer : 4, Weights shape: (10, 16), Biases shape: (10, 1)\n"
          ]
        }
      ],
      "source": [
        "nn2 = MyNeuralNetwork(input_size=784, hidden_sizes=[128,56,16,16], output_size=10, activation_function='sigmoid',dropout=0.4)"
      ]
    },
    {
      "cell_type": "code",
      "execution_count": 439,
      "metadata": {},
      "outputs": [
        {
          "name": "stdout",
          "output_type": "stream",
          "text": [
            "The learning rate at epoch 0 is :1.0\n"
          ]
        },
        {
          "name": "stdout",
          "output_type": "stream",
          "text": [
            "In  epoch  0 loss  is : 3.26307 and accuracy is: 0.10772\n",
            "In  epoch  1 loss  is : 3.24987 and accuracy is: 0.11153\n",
            "In  epoch  2 loss  is : 3.22144 and accuracy is: 0.13048\n",
            "In  epoch  3 loss  is : 3.01254 and accuracy is: 0.19055\n",
            "In  epoch  4 loss  is : 2.83508 and accuracy is: 0.23300\n",
            "In  epoch  5 loss  is : 2.70097 and accuracy is: 0.27732\n",
            "In  epoch  6 loss  is : 2.53414 and accuracy is: 0.33362\n",
            "In  epoch  7 loss  is : 2.39640 and accuracy is: 0.37707\n",
            "In  epoch  8 loss  is : 2.30263 and accuracy is: 0.40983\n",
            "In  epoch  9 loss  is : 2.23170 and accuracy is: 0.42687\n",
            "The learning rate at epoch 10 is :0.9090909090909091\n",
            "In  epoch  10 loss  is : 2.16762 and accuracy is: 0.44273\n",
            "In  epoch  11 loss  is : 2.12167 and accuracy is: 0.45072\n",
            "In  epoch  12 loss  is : 2.09033 and accuracy is: 0.46047\n",
            "In  epoch  13 loss  is : 2.05716 and accuracy is: 0.47013\n",
            "In  epoch  14 loss  is : 2.02860 and accuracy is: 0.47715\n",
            "In  epoch  15 loss  is : 1.99571 and accuracy is: 0.48918\n",
            "In  epoch  16 loss  is : 1.97151 and accuracy is: 0.50045\n",
            "In  epoch  17 loss  is : 1.94671 and accuracy is: 0.50840\n",
            "In  epoch  18 loss  is : 1.92421 and accuracy is: 0.52262\n",
            "In  epoch  19 loss  is : 1.89392 and accuracy is: 0.53410\n",
            "The learning rate at epoch 20 is :0.7575757575757576\n",
            "In  epoch  20 loss  is : 1.87177 and accuracy is: 0.54495\n",
            "In  epoch  21 loss  is : 1.85349 and accuracy is: 0.55400\n",
            "In  epoch  22 loss  is : 1.83612 and accuracy is: 0.56143\n",
            "In  epoch  23 loss  is : 1.81310 and accuracy is: 0.57025\n",
            "In  epoch  24 loss  is : 1.79922 and accuracy is: 0.57560\n",
            "In  epoch  25 loss  is : 1.78957 and accuracy is: 0.58205\n",
            "In  epoch  26 loss  is : 1.78031 and accuracy is: 0.58867\n",
            "In  epoch  27 loss  is : 1.75646 and accuracy is: 0.59805\n",
            "In  epoch  28 loss  is : 1.74127 and accuracy is: 0.60180\n",
            "In  epoch  29 loss  is : 1.70960 and accuracy is: 0.61235\n",
            "The learning rate at epoch 30 is :0.5827505827505827\n",
            "In  epoch  30 loss  is : 1.70875 and accuracy is: 0.61780\n",
            "In  epoch  31 loss  is : 1.69417 and accuracy is: 0.61873\n",
            "In  epoch  32 loss  is : 1.68286 and accuracy is: 0.62538\n",
            "In  epoch  33 loss  is : 1.67519 and accuracy is: 0.62888\n",
            "In  epoch  34 loss  is : 1.66987 and accuracy is: 0.63110\n",
            "In  epoch  35 loss  is : 1.65930 and accuracy is: 0.63600\n",
            "In  epoch  36 loss  is : 1.64154 and accuracy is: 0.63802\n",
            "In  epoch  37 loss  is : 1.62601 and accuracy is: 0.64070\n",
            "In  epoch  38 loss  is : 1.62569 and accuracy is: 0.64117\n",
            "In  epoch  39 loss  is : 1.61476 and accuracy is: 0.64555\n",
            "The learning rate at epoch 40 is :0.4162504162504162\n",
            "In  epoch  40 loss  is : 1.60798 and accuracy is: 0.64832\n",
            "In  epoch  41 loss  is : 1.60375 and accuracy is: 0.64785\n",
            "In  epoch  42 loss  is : 1.58984 and accuracy is: 0.65412\n",
            "In  epoch  43 loss  is : 1.59012 and accuracy is: 0.65683\n",
            "In  epoch  44 loss  is : 1.58075 and accuracy is: 0.65653\n",
            "In  epoch  45 loss  is : 1.57665 and accuracy is: 0.65822\n",
            "In  epoch  46 loss  is : 1.57362 and accuracy is: 0.65942\n",
            "In  epoch  47 loss  is : 1.56345 and accuracy is: 0.66190\n",
            "In  epoch  48 loss  is : 1.55188 and accuracy is: 0.66465\n",
            "In  epoch  49 loss  is : 1.55498 and accuracy is: 0.66653\n",
            "The learning rate at epoch 50 is :0.27750027750027745\n",
            "In  epoch  50 loss  is : 1.54273 and accuracy is: 0.67003\n",
            "In  epoch  51 loss  is : 1.54643 and accuracy is: 0.66962\n",
            "In  epoch  52 loss  is : 1.54098 and accuracy is: 0.66672\n",
            "In  epoch  53 loss  is : 1.53562 and accuracy is: 0.67037\n",
            "In  epoch  54 loss  is : 1.53225 and accuracy is: 0.67420\n",
            "In  epoch  55 loss  is : 1.53438 and accuracy is: 0.67228\n",
            "In  epoch  56 loss  is : 1.52134 and accuracy is: 0.67418\n",
            "In  epoch  57 loss  is : 1.51147 and accuracy is: 0.67525\n",
            "In  epoch  58 loss  is : 1.51127 and accuracy is: 0.67842\n",
            "In  epoch  59 loss  is : 1.50893 and accuracy is: 0.67525\n",
            "The learning rate at epoch 60 is :0.1734376734376734\n",
            "In  epoch  60 loss  is : 1.50818 and accuracy is: 0.67817\n",
            "In  epoch  61 loss  is : 1.51252 and accuracy is: 0.67772\n",
            "In  epoch  62 loss  is : 1.51676 and accuracy is: 0.67780\n",
            "In  epoch  63 loss  is : 1.49705 and accuracy is: 0.68197\n",
            "In  epoch  64 loss  is : 1.50539 and accuracy is: 0.67905\n",
            "In  epoch  65 loss  is : 1.50181 and accuracy is: 0.68115\n",
            "In  epoch  66 loss  is : 1.50524 and accuracy is: 0.67885\n",
            "In  epoch  67 loss  is : 1.49432 and accuracy is: 0.68015\n",
            "In  epoch  68 loss  is : 1.48075 and accuracy is: 0.68607\n",
            "In  epoch  69 loss  is : 1.50396 and accuracy is: 0.67973\n",
            "The learning rate at epoch 70 is :0.10202216084569023\n",
            "In  epoch  70 loss  is : 1.49254 and accuracy is: 0.68318\n",
            "In  epoch  71 loss  is : 1.49406 and accuracy is: 0.68145\n",
            "In  epoch  72 loss  is : 1.49171 and accuracy is: 0.68277\n",
            "In  epoch  73 loss  is : 1.49022 and accuracy is: 0.68412\n",
            "In  epoch  74 loss  is : 1.48960 and accuracy is: 0.68302\n",
            "In  epoch  75 loss  is : 1.47722 and accuracy is: 0.68538\n",
            "In  epoch  76 loss  is : 1.47760 and accuracy is: 0.68538\n",
            "In  epoch  77 loss  is : 1.48908 and accuracy is: 0.68415\n",
            "In  epoch  78 loss  is : 1.47610 and accuracy is: 0.68767\n",
            "In  epoch  79 loss  is : 1.47893 and accuracy is: 0.68828\n",
            "The learning rate at epoch 80 is :0.056678978247605684\n",
            "In  epoch  80 loss  is : 1.48893 and accuracy is: 0.68545\n",
            "In  epoch  81 loss  is : 1.48007 and accuracy is: 0.68693\n",
            "In  epoch  82 loss  is : 1.47070 and accuracy is: 0.68688\n",
            "In  epoch  83 loss  is : 1.47419 and accuracy is: 0.68723\n",
            "In  epoch  84 loss  is : 1.48609 and accuracy is: 0.68442\n",
            "In  epoch  85 loss  is : 1.47766 and accuracy is: 0.68848\n",
            "In  epoch  86 loss  is : 1.47334 and accuracy is: 0.68828\n",
            "In  epoch  87 loss  is : 1.47741 and accuracy is: 0.68818\n",
            "In  epoch  88 loss  is : 1.46791 and accuracy is: 0.69067\n",
            "In  epoch  89 loss  is : 1.47364 and accuracy is: 0.68920\n",
            "The learning rate at epoch 90 is :0.02983104118295036\n",
            "In  epoch  90 loss  is : 1.48566 and accuracy is: 0.68685\n",
            "In  epoch  91 loss  is : 1.48013 and accuracy is: 0.68583\n",
            "In  epoch  92 loss  is : 1.47273 and accuracy is: 0.68947\n",
            "In  epoch  93 loss  is : 1.47291 and accuracy is: 0.68868\n",
            "In  epoch  94 loss  is : 1.47331 and accuracy is: 0.68828\n",
            "In  epoch  95 loss  is : 1.46969 and accuracy is: 0.68647\n",
            "In  epoch  96 loss  is : 1.48038 and accuracy is: 0.68758\n",
            "In  epoch  97 loss  is : 1.47207 and accuracy is: 0.68962\n",
            "In  epoch  98 loss  is : 1.46678 and accuracy is: 0.68960\n",
            "In  epoch  99 loss  is : 1.47203 and accuracy is: 0.68980\n"
          ]
        }
      ],
      "source": [
        "losses,accuracies = nn2.train(X_train, y_train, learning_rate=1, epochs=100, batch_size=128,decay_rate=0.01,decay_step=10)"
      ]
    },
    {
      "cell_type": "code",
      "execution_count": 440,
      "metadata": {},
      "outputs": [
        {
          "name": "stdout",
          "output_type": "stream",
          "text": [
            "Test Loss: 1.4918280290814516, Test Accuracy: 0.6906\n"
          ]
        }
      ],
      "source": [
        "# Test the neural network\n",
        "loss,acc = nn2.test(X_test, y_test)\n",
        "print(f'Test Loss: {loss}, Test Accuracy: {acc}')\n"
      ]
    },
    {
      "cell_type": "code",
      "execution_count": 441,
      "metadata": {},
      "outputs": [
        {
          "data": {
            "image/png": "[encoded data removed]",
            "text/plain": [
              "<Figure size 1500x500 with 2 Axes>"
            ]
          },
          "metadata": {},
          "output_type": "display_data"
        }
      ],
      "source": [
        "\n",
        "fig, (ax1, ax2) = plt.subplots(1, 2,figsize=(15,5))\n",
        "fig.suptitle('Loss and Accuracy')\n",
        "ax1.plot(losses)\n",
        "ax1.set_title('Loss')\n",
        "ax2.plot(accuracies)\n",
        "ax2.set_title('Accuracy')\n",
        "plt.show()\n"
      ]
    },
    {
      "cell_type": "markdown",
      "metadata": {},
      "source": [
        "## 3.Third Neural Network Architecture\n",
        "\n",
        "- Its builded as 4 hidden layer as their inputs 128,56,18,18\n",
        "\n",
        "- Activation function as 'ReLu' \n",
        "- Dropout applied as 0.4\n",
        "- Epoch applied as 20 times\n",
        "- SGD optimizer applied \n",
        "- Mini batch size as 56 \n",
        "- Learning rate is initilized as 1 \n",
        "- decay rate is 0.5 to decrease learning rate in steps in 20 (decay_step)\n",
        "\n"
      ]
    },
    {
      "cell_type": "code",
      "execution_count": 442,
      "metadata": {},
      "outputs": [
        {
          "name": "stdout",
          "output_type": "stream",
          "text": [
            "Weights in layer : 0, Weights shape: (128, 784), Biases shape: (128, 1)\n",
            "Weights in layer : 1, Weights shape: (56, 128), Biases shape: (56, 1)\n",
            "Weights in layer : 2, Weights shape: (16, 56), Biases shape: (16, 1)\n",
            "Weights in layer : 3, Weights shape: (16, 16), Biases shape: (16, 1)\n",
            "Weights in layer : 4, Weights shape: (10, 16), Biases shape: (10, 1)\n"
          ]
        }
      ],
      "source": [
        "nn3 = MyNeuralNetwork(input_size=784, hidden_sizes=[128,56,16,16], output_size=10, activation_function='relu',dropout=0.4)"
      ]
    },
    {
      "cell_type": "code",
      "execution_count": 443,
      "metadata": {},
      "outputs": [
        {
          "name": "stdout",
          "output_type": "stream",
          "text": [
            "The learning rate at epoch 0 is :1.0\n",
            "In  epoch  0 loss  is : 3.04498 and accuracy is: 0.24422\n",
            "In  epoch  1 loss  is : 3.06261 and accuracy is: 0.23052\n"
          ]
        }
      ],
      "source": [
        "losses,accuracies = nn2.train(X_train, y_train, learning_rate=1, epochs=20, batch_size=1,decay_rate=0.01,decay_step=10)"
      ]
    },
    {
      "cell_type": "code",
      "execution_count": null,
      "metadata": {},
      "outputs": [
        {
          "name": "stdout",
          "output_type": "stream",
          "text": [
            "Test Loss: 24.727998430647027, Test Accuracy: 0.0914\n"
          ]
        }
      ],
      "source": [
        "# Test the neural network\n",
        "loss,acc = nn3.test(X_test, y_test)\n",
        "print(f'Test Loss: {loss}, Test Accuracy: {acc}')"
      ]
    },
    {
      "cell_type": "code",
      "execution_count": null,
      "metadata": {},
      "outputs": [
        {
          "data": {
            "image/png": "[encoded data removed]",
            "text/plain": [
              "<Figure size 1500x500 with 2 Axes>"
            ]
          },
          "metadata": {},
          "output_type": "display_data"
        }
      ],
      "source": [
        "fig, (ax1, ax2) = plt.subplots(1, 2,figsize=(15,5))\n",
        "fig.suptitle('Loss and Accuracy')\n",
        "ax1.plot(losses)\n",
        "ax1.set_title('Loss')\n",
        "ax2.plot(accuracies)\n",
        "ax2.set_title('Accuracy')\n",
        "plt.show()\n"
      ]
    },
    {
      "cell_type": "code",
      "execution_count": null,
      "metadata": {},
      "outputs": [],
      "source": []
    }
  ],
  "metadata": {
    "colab": {
      "authorship_tag": "ABX9TyNLCAXIYYGmpU8xJwnPWCXF",
      "collapsed_sections": [
        "_WGR6imnPESL",
        "aFbxcwcENmQk",
        "IRw2jsVWH0I4"
      ],
      "include_colab_link": true,
      "provenance": []
    },
    "kernelspec": {
      "display_name": "Python 3",
      "name": "python3"
    },
    "language_info": {
      "codemirror_mode": {
        "name": "ipython",
        "version": 3
      },
      "file_extension": ".py",
      "mimetype": "text/x-python",
      "name": "python",
      "nbconvert_exporter": "python",
      "pygments_lexer": "ipython3",
      "version": "3.11.5"
    }
  },
  "nbformat": 4,
  "nbformat_minor": 0
}
